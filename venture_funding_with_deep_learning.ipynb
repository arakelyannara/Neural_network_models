{
 "cells": [
  {
   "cell_type": "markdown",
   "metadata": {
    "tags": []
   },
   "source": [
    "# Venture Funding with Deep Learning\n",
    "\n",
    "You work as a risk management associate at Alphabet Soup, a venture capital firm. Alphabet Soup’s business team receives many funding applications from startups every day. This team has asked you to help them create a model that predicts whether applicants will be successful if funded by Alphabet Soup.\n",
    "\n",
    "The business team has given you a CSV containing more than 34,000 organizations that have received funding from Alphabet Soup over the years. With your knowledge of machine learning and neural networks, you decide to use the features in the provided dataset to create a binary classifier model that will predict whether an applicant will become a successful business. The CSV file contains a variety of information about these businesses, including whether or not they ultimately became successful.\n",
    "\n",
    "## Instructions:\n",
    "\n",
    "The steps for this challenge are broken out into the following sections:\n",
    "\n",
    "* Prepare the data for use on a neural network model.\n",
    "\n",
    "* Compile and evaluate a binary classification model using a neural network.\n",
    "\n",
    "* Optimize the neural network model.\n",
    "\n",
    "### Prepare the Data for Use on a Neural Network Model \n",
    "\n",
    "Using your knowledge of Pandas and scikit-learn’s `StandardScaler()`, preprocess the dataset so that you can use it to compile and evaluate the neural network model later.\n",
    "\n",
    "Open the starter code file, and complete the following data preparation steps:\n",
    "\n",
    "1. Read the `applicants_data.csv` file into a Pandas DataFrame. Review the DataFrame, looking for categorical variables that will need to be encoded, as well as columns that could eventually define your features and target variables.   \n",
    "\n",
    "2. Drop the “EIN” (Employer Identification Number) and “NAME” columns from the DataFrame, because they are not relevant to the binary classification model.\n",
    " \n",
    "3. Encode the dataset’s categorical variables using `OneHotEncoder`, and then place the encoded variables into a new DataFrame.\n",
    "\n",
    "4. Add the original DataFrame’s numerical variables to the DataFrame containing the encoded variables.\n",
    "\n",
    "> **Note** To complete this step, you will employ the Pandas `concat()` function that was introduced earlier in this course. \n",
    "\n",
    "5. Using the preprocessed data, create the features (`X`) and target (`y`) datasets. The target dataset should be defined by the preprocessed DataFrame column “IS_SUCCESSFUL”. The remaining columns should define the features dataset. \n",
    "\n",
    "6. Split the features and target sets into training and testing datasets.\n",
    "\n",
    "7. Use scikit-learn's `StandardScaler` to scale the features data.\n",
    "\n",
    "### Compile and Evaluate a Binary Classification Model Using a Neural Network\n",
    "\n",
    "Use your knowledge of TensorFlow to design a binary classification deep neural network model. This model should use the dataset’s features to predict whether an Alphabet Soup&ndash;funded startup will be successful based on the features in the dataset. Consider the number of inputs before determining the number of layers that your model will contain or the number of neurons on each layer. Then, compile and fit your model. Finally, evaluate your binary classification model to calculate the model’s loss and accuracy. \n",
    " \n",
    "To do so, complete the following steps:\n",
    "\n",
    "1. Create a deep neural network by assigning the number of input features, the number of layers, and the number of neurons on each layer using Tensorflow’s Keras.\n",
    "\n",
    "> **Hint** You can start with a two-layer deep neural network model that uses the `relu` activation function for both layers.\n",
    "\n",
    "2. Compile and fit the model using the `binary_crossentropy` loss function, the `adam` optimizer, and the `accuracy` evaluation metric.\n",
    "\n",
    "> **Hint** When fitting the model, start with a small number of epochs, such as 20, 50, or 100.\n",
    "\n",
    "3. Evaluate the model using the test data to determine the model’s loss and accuracy.\n",
    "\n",
    "4. Save and export your model to an HDF5 file, and name the file `AlphabetSoup.h5`. \n",
    "\n",
    "### Optimize the Neural Network Model\n",
    "\n",
    "Using your knowledge of TensorFlow and Keras, optimize your model to improve the model's accuracy. Even if you do not successfully achieve a better accuracy, you'll need to demonstrate at least two attempts to optimize the model. You can include these attempts in your existing notebook. Or, you can make copies of the starter notebook in the same folder, rename them, and code each model optimization in a new notebook. \n",
    "\n",
    "> **Note** You will not lose points if your model does not achieve a high accuracy, as long as you make at least two attempts to optimize the model.\n",
    "\n",
    "To do so, complete the following steps:\n",
    "\n",
    "1. Define at least three new deep neural network models (the original plus 2 optimization attempts). With each, try to improve on your first model’s predictive accuracy.\n",
    "\n",
    "> **Rewind** Recall that perfect accuracy has a value of 1, so accuracy improves as its value moves closer to 1. To optimize your model for a predictive accuracy as close to 1 as possible, you can use any or all of the following techniques:\n",
    ">\n",
    "> * Adjust the input data by dropping different features columns to ensure that no variables or outliers confuse the model.\n",
    ">\n",
    "> * Add more neurons (nodes) to a hidden layer.\n",
    ">\n",
    "> * Add more hidden layers.\n",
    ">\n",
    "> * Use different activation functions for the hidden layers.\n",
    ">\n",
    "> * Add to or reduce the number of epochs in the training regimen.\n",
    "\n",
    "2. After finishing your models, display the accuracy scores achieved by each model, and compare the results.\n",
    "\n",
    "3. Save each of your models as an HDF5 file.\n"
   ]
  },
  {
   "cell_type": "code",
   "execution_count": 1,
   "metadata": {},
   "outputs": [],
   "source": [
    "# Imports\n",
    "import pandas as pd\n",
    "from pathlib import Path\n",
    "import tensorflow as tf\n",
    "from tensorflow.keras.layers import Dense\n",
    "from tensorflow.keras.models import Sequential\n",
    "from sklearn.model_selection import train_test_split\n",
    "from sklearn.preprocessing import StandardScaler,OneHotEncoder"
   ]
  },
  {
   "cell_type": "markdown",
   "metadata": {},
   "source": [
    "---\n",
    "\n",
    "## Prepare the data to be used on a neural network model"
   ]
  },
  {
   "cell_type": "markdown",
   "metadata": {},
   "source": [
    "### Step 1: Read the `applicants_data.csv` file into a Pandas DataFrame. Review the DataFrame, looking for categorical variables that will need to be encoded, as well as columns that could eventually define your features and target variables.  \n"
   ]
  },
  {
   "cell_type": "code",
   "execution_count": 2,
   "metadata": {},
   "outputs": [
    {
     "data": {
      "text/html": [
       "<div>\n",
       "<style scoped>\n",
       "    .dataframe tbody tr th:only-of-type {\n",
       "        vertical-align: middle;\n",
       "    }\n",
       "\n",
       "    .dataframe tbody tr th {\n",
       "        vertical-align: top;\n",
       "    }\n",
       "\n",
       "    .dataframe thead th {\n",
       "        text-align: right;\n",
       "    }\n",
       "</style>\n",
       "<table border=\"1\" class=\"dataframe\">\n",
       "  <thead>\n",
       "    <tr style=\"text-align: right;\">\n",
       "      <th></th>\n",
       "      <th>EIN</th>\n",
       "      <th>NAME</th>\n",
       "      <th>APPLICATION_TYPE</th>\n",
       "      <th>AFFILIATION</th>\n",
       "      <th>CLASSIFICATION</th>\n",
       "      <th>USE_CASE</th>\n",
       "      <th>ORGANIZATION</th>\n",
       "      <th>STATUS</th>\n",
       "      <th>INCOME_AMT</th>\n",
       "      <th>SPECIAL_CONSIDERATIONS</th>\n",
       "      <th>ASK_AMT</th>\n",
       "      <th>IS_SUCCESSFUL</th>\n",
       "    </tr>\n",
       "  </thead>\n",
       "  <tbody>\n",
       "    <tr>\n",
       "      <th>0</th>\n",
       "      <td>10520599</td>\n",
       "      <td>BLUE KNIGHTS MOTORCYCLE CLUB</td>\n",
       "      <td>T10</td>\n",
       "      <td>Independent</td>\n",
       "      <td>C1000</td>\n",
       "      <td>ProductDev</td>\n",
       "      <td>Association</td>\n",
       "      <td>1</td>\n",
       "      <td>0</td>\n",
       "      <td>N</td>\n",
       "      <td>5000</td>\n",
       "      <td>1</td>\n",
       "    </tr>\n",
       "    <tr>\n",
       "      <th>1</th>\n",
       "      <td>10531628</td>\n",
       "      <td>AMERICAN CHESAPEAKE CLUB CHARITABLE TR</td>\n",
       "      <td>T3</td>\n",
       "      <td>Independent</td>\n",
       "      <td>C2000</td>\n",
       "      <td>Preservation</td>\n",
       "      <td>Co-operative</td>\n",
       "      <td>1</td>\n",
       "      <td>1-9999</td>\n",
       "      <td>N</td>\n",
       "      <td>108590</td>\n",
       "      <td>1</td>\n",
       "    </tr>\n",
       "    <tr>\n",
       "      <th>2</th>\n",
       "      <td>10547893</td>\n",
       "      <td>ST CLOUD PROFESSIONAL FIREFIGHTERS</td>\n",
       "      <td>T5</td>\n",
       "      <td>CompanySponsored</td>\n",
       "      <td>C3000</td>\n",
       "      <td>ProductDev</td>\n",
       "      <td>Association</td>\n",
       "      <td>1</td>\n",
       "      <td>0</td>\n",
       "      <td>N</td>\n",
       "      <td>5000</td>\n",
       "      <td>0</td>\n",
       "    </tr>\n",
       "    <tr>\n",
       "      <th>3</th>\n",
       "      <td>10553066</td>\n",
       "      <td>SOUTHSIDE ATHLETIC ASSOCIATION</td>\n",
       "      <td>T3</td>\n",
       "      <td>CompanySponsored</td>\n",
       "      <td>C2000</td>\n",
       "      <td>Preservation</td>\n",
       "      <td>Trust</td>\n",
       "      <td>1</td>\n",
       "      <td>10000-24999</td>\n",
       "      <td>N</td>\n",
       "      <td>6692</td>\n",
       "      <td>1</td>\n",
       "    </tr>\n",
       "    <tr>\n",
       "      <th>4</th>\n",
       "      <td>10556103</td>\n",
       "      <td>GENETIC RESEARCH INSTITUTE OF THE DESERT</td>\n",
       "      <td>T3</td>\n",
       "      <td>Independent</td>\n",
       "      <td>C1000</td>\n",
       "      <td>Heathcare</td>\n",
       "      <td>Trust</td>\n",
       "      <td>1</td>\n",
       "      <td>100000-499999</td>\n",
       "      <td>N</td>\n",
       "      <td>142590</td>\n",
       "      <td>1</td>\n",
       "    </tr>\n",
       "  </tbody>\n",
       "</table>\n",
       "</div>"
      ],
      "text/plain": [
       "        EIN                                      NAME APPLICATION_TYPE  \\\n",
       "0  10520599              BLUE KNIGHTS MOTORCYCLE CLUB              T10   \n",
       "1  10531628    AMERICAN CHESAPEAKE CLUB CHARITABLE TR               T3   \n",
       "2  10547893        ST CLOUD PROFESSIONAL FIREFIGHTERS               T5   \n",
       "3  10553066            SOUTHSIDE ATHLETIC ASSOCIATION               T3   \n",
       "4  10556103  GENETIC RESEARCH INSTITUTE OF THE DESERT               T3   \n",
       "\n",
       "        AFFILIATION CLASSIFICATION      USE_CASE  ORGANIZATION  STATUS  \\\n",
       "0       Independent          C1000    ProductDev   Association       1   \n",
       "1       Independent          C2000  Preservation  Co-operative       1   \n",
       "2  CompanySponsored          C3000    ProductDev   Association       1   \n",
       "3  CompanySponsored          C2000  Preservation         Trust       1   \n",
       "4       Independent          C1000     Heathcare         Trust       1   \n",
       "\n",
       "      INCOME_AMT SPECIAL_CONSIDERATIONS  ASK_AMT  IS_SUCCESSFUL  \n",
       "0              0                      N     5000              1  \n",
       "1         1-9999                      N   108590              1  \n",
       "2              0                      N     5000              0  \n",
       "3    10000-24999                      N     6692              1  \n",
       "4  100000-499999                      N   142590              1  "
      ]
     },
     "execution_count": 2,
     "metadata": {},
     "output_type": "execute_result"
    }
   ],
   "source": [
    "# Read the applicants_data.csv file from the Resources folder into a Pandas DataFrame\n",
    "applicant_data_df = pd.read_csv(Path(\"Resources/applicants_data.csv\"))\n",
    "\n",
    "# Review the DataFrame\n",
    "applicant_data_df.head()"
   ]
  },
  {
   "cell_type": "code",
   "execution_count": 3,
   "metadata": {},
   "outputs": [
    {
     "data": {
      "text/plain": [
       "EIN                        int64\n",
       "NAME                      object\n",
       "APPLICATION_TYPE          object\n",
       "AFFILIATION               object\n",
       "CLASSIFICATION            object\n",
       "USE_CASE                  object\n",
       "ORGANIZATION              object\n",
       "STATUS                     int64\n",
       "INCOME_AMT                object\n",
       "SPECIAL_CONSIDERATIONS    object\n",
       "ASK_AMT                    int64\n",
       "IS_SUCCESSFUL              int64\n",
       "dtype: object"
      ]
     },
     "execution_count": 3,
     "metadata": {},
     "output_type": "execute_result"
    }
   ],
   "source": [
    "# Review the data types associated with the columns\n",
    "applicant_data_df.dtypes"
   ]
  },
  {
   "cell_type": "markdown",
   "metadata": {},
   "source": [
    "### Step 2: Drop the “EIN” (Employer Identification Number) and “NAME” columns from the DataFrame, because they are not relevant to the binary classification model."
   ]
  },
  {
   "cell_type": "code",
   "execution_count": 4,
   "metadata": {},
   "outputs": [
    {
     "data": {
      "text/html": [
       "<div>\n",
       "<style scoped>\n",
       "    .dataframe tbody tr th:only-of-type {\n",
       "        vertical-align: middle;\n",
       "    }\n",
       "\n",
       "    .dataframe tbody tr th {\n",
       "        vertical-align: top;\n",
       "    }\n",
       "\n",
       "    .dataframe thead th {\n",
       "        text-align: right;\n",
       "    }\n",
       "</style>\n",
       "<table border=\"1\" class=\"dataframe\">\n",
       "  <thead>\n",
       "    <tr style=\"text-align: right;\">\n",
       "      <th></th>\n",
       "      <th>APPLICATION_TYPE</th>\n",
       "      <th>AFFILIATION</th>\n",
       "      <th>CLASSIFICATION</th>\n",
       "      <th>USE_CASE</th>\n",
       "      <th>ORGANIZATION</th>\n",
       "      <th>STATUS</th>\n",
       "      <th>INCOME_AMT</th>\n",
       "      <th>SPECIAL_CONSIDERATIONS</th>\n",
       "      <th>ASK_AMT</th>\n",
       "      <th>IS_SUCCESSFUL</th>\n",
       "    </tr>\n",
       "  </thead>\n",
       "  <tbody>\n",
       "    <tr>\n",
       "      <th>0</th>\n",
       "      <td>T10</td>\n",
       "      <td>Independent</td>\n",
       "      <td>C1000</td>\n",
       "      <td>ProductDev</td>\n",
       "      <td>Association</td>\n",
       "      <td>1</td>\n",
       "      <td>0</td>\n",
       "      <td>N</td>\n",
       "      <td>5000</td>\n",
       "      <td>1</td>\n",
       "    </tr>\n",
       "    <tr>\n",
       "      <th>1</th>\n",
       "      <td>T3</td>\n",
       "      <td>Independent</td>\n",
       "      <td>C2000</td>\n",
       "      <td>Preservation</td>\n",
       "      <td>Co-operative</td>\n",
       "      <td>1</td>\n",
       "      <td>1-9999</td>\n",
       "      <td>N</td>\n",
       "      <td>108590</td>\n",
       "      <td>1</td>\n",
       "    </tr>\n",
       "    <tr>\n",
       "      <th>2</th>\n",
       "      <td>T5</td>\n",
       "      <td>CompanySponsored</td>\n",
       "      <td>C3000</td>\n",
       "      <td>ProductDev</td>\n",
       "      <td>Association</td>\n",
       "      <td>1</td>\n",
       "      <td>0</td>\n",
       "      <td>N</td>\n",
       "      <td>5000</td>\n",
       "      <td>0</td>\n",
       "    </tr>\n",
       "    <tr>\n",
       "      <th>3</th>\n",
       "      <td>T3</td>\n",
       "      <td>CompanySponsored</td>\n",
       "      <td>C2000</td>\n",
       "      <td>Preservation</td>\n",
       "      <td>Trust</td>\n",
       "      <td>1</td>\n",
       "      <td>10000-24999</td>\n",
       "      <td>N</td>\n",
       "      <td>6692</td>\n",
       "      <td>1</td>\n",
       "    </tr>\n",
       "    <tr>\n",
       "      <th>4</th>\n",
       "      <td>T3</td>\n",
       "      <td>Independent</td>\n",
       "      <td>C1000</td>\n",
       "      <td>Heathcare</td>\n",
       "      <td>Trust</td>\n",
       "      <td>1</td>\n",
       "      <td>100000-499999</td>\n",
       "      <td>N</td>\n",
       "      <td>142590</td>\n",
       "      <td>1</td>\n",
       "    </tr>\n",
       "  </tbody>\n",
       "</table>\n",
       "</div>"
      ],
      "text/plain": [
       "  APPLICATION_TYPE       AFFILIATION CLASSIFICATION      USE_CASE  \\\n",
       "0              T10       Independent          C1000    ProductDev   \n",
       "1               T3       Independent          C2000  Preservation   \n",
       "2               T5  CompanySponsored          C3000    ProductDev   \n",
       "3               T3  CompanySponsored          C2000  Preservation   \n",
       "4               T3       Independent          C1000     Heathcare   \n",
       "\n",
       "   ORGANIZATION  STATUS     INCOME_AMT SPECIAL_CONSIDERATIONS  ASK_AMT  \\\n",
       "0   Association       1              0                      N     5000   \n",
       "1  Co-operative       1         1-9999                      N   108590   \n",
       "2   Association       1              0                      N     5000   \n",
       "3         Trust       1    10000-24999                      N     6692   \n",
       "4         Trust       1  100000-499999                      N   142590   \n",
       "\n",
       "   IS_SUCCESSFUL  \n",
       "0              1  \n",
       "1              1  \n",
       "2              0  \n",
       "3              1  \n",
       "4              1  "
      ]
     },
     "execution_count": 4,
     "metadata": {},
     "output_type": "execute_result"
    }
   ],
   "source": [
    "# Drop the 'EIN' and 'NAME' columns from the DataFrame\n",
    "applicant_data_df = applicant_data_df.drop([\"EIN\",\"NAME\"],axis=1)\n",
    "\n",
    "# Review the DataFrame\n",
    "applicant_data_df.head()\n"
   ]
  },
  {
   "cell_type": "markdown",
   "metadata": {},
   "source": [
    "### Step 3: Encode the dataset’s categorical variables using `OneHotEncoder`, and then place the encoded variables into a new DataFrame."
   ]
  },
  {
   "cell_type": "code",
   "execution_count": 5,
   "metadata": {},
   "outputs": [
    {
     "data": {
      "text/plain": [
       "['APPLICATION_TYPE',\n",
       " 'AFFILIATION',\n",
       " 'CLASSIFICATION',\n",
       " 'USE_CASE',\n",
       " 'ORGANIZATION',\n",
       " 'INCOME_AMT',\n",
       " 'SPECIAL_CONSIDERATIONS']"
      ]
     },
     "execution_count": 5,
     "metadata": {},
     "output_type": "execute_result"
    }
   ],
   "source": [
    "# Create a list of categorical variables \n",
    "categorical_variables = applicant_data_df.loc[:,applicant_data_df.dtypes==\"object\"]\n",
    "\n",
    "# Display the categorical variables list\n",
    "categorical_variables=list(list(applicant_data_df.dtypes[applicant_data_df.dtypes == \"object\"].index))\n",
    "categorical_variables"
   ]
  },
  {
   "cell_type": "code",
   "execution_count": 6,
   "metadata": {},
   "outputs": [],
   "source": [
    "# Create a OneHotEncoder instance\n",
    "enc = OneHotEncoder(sparse=False)\n"
   ]
  },
  {
   "cell_type": "code",
   "execution_count": 7,
   "metadata": {},
   "outputs": [],
   "source": [
    "# Encode the categorcal variables using OneHotEncoder\n",
    "encoded_data = enc.fit_transform(applicant_data_df[categorical_variables])"
   ]
  },
  {
   "cell_type": "code",
   "execution_count": 8,
   "metadata": {},
   "outputs": [
    {
     "data": {
      "text/html": [
       "<div>\n",
       "<style scoped>\n",
       "    .dataframe tbody tr th:only-of-type {\n",
       "        vertical-align: middle;\n",
       "    }\n",
       "\n",
       "    .dataframe tbody tr th {\n",
       "        vertical-align: top;\n",
       "    }\n",
       "\n",
       "    .dataframe thead th {\n",
       "        text-align: right;\n",
       "    }\n",
       "</style>\n",
       "<table border=\"1\" class=\"dataframe\">\n",
       "  <thead>\n",
       "    <tr style=\"text-align: right;\">\n",
       "      <th></th>\n",
       "      <th>APPLICATION_TYPE_T10</th>\n",
       "      <th>APPLICATION_TYPE_T12</th>\n",
       "      <th>APPLICATION_TYPE_T13</th>\n",
       "      <th>APPLICATION_TYPE_T14</th>\n",
       "      <th>APPLICATION_TYPE_T15</th>\n",
       "      <th>APPLICATION_TYPE_T17</th>\n",
       "      <th>APPLICATION_TYPE_T19</th>\n",
       "      <th>APPLICATION_TYPE_T2</th>\n",
       "      <th>APPLICATION_TYPE_T25</th>\n",
       "      <th>APPLICATION_TYPE_T29</th>\n",
       "      <th>...</th>\n",
       "      <th>INCOME_AMT_1-9999</th>\n",
       "      <th>INCOME_AMT_10000-24999</th>\n",
       "      <th>INCOME_AMT_100000-499999</th>\n",
       "      <th>INCOME_AMT_10M-50M</th>\n",
       "      <th>INCOME_AMT_1M-5M</th>\n",
       "      <th>INCOME_AMT_25000-99999</th>\n",
       "      <th>INCOME_AMT_50M+</th>\n",
       "      <th>INCOME_AMT_5M-10M</th>\n",
       "      <th>SPECIAL_CONSIDERATIONS_N</th>\n",
       "      <th>SPECIAL_CONSIDERATIONS_Y</th>\n",
       "    </tr>\n",
       "  </thead>\n",
       "  <tbody>\n",
       "    <tr>\n",
       "      <th>0</th>\n",
       "      <td>1.0</td>\n",
       "      <td>0.0</td>\n",
       "      <td>0.0</td>\n",
       "      <td>0.0</td>\n",
       "      <td>0.0</td>\n",
       "      <td>0.0</td>\n",
       "      <td>0.0</td>\n",
       "      <td>0.0</td>\n",
       "      <td>0.0</td>\n",
       "      <td>0.0</td>\n",
       "      <td>...</td>\n",
       "      <td>0.0</td>\n",
       "      <td>0.0</td>\n",
       "      <td>0.0</td>\n",
       "      <td>0.0</td>\n",
       "      <td>0.0</td>\n",
       "      <td>0.0</td>\n",
       "      <td>0.0</td>\n",
       "      <td>0.0</td>\n",
       "      <td>1.0</td>\n",
       "      <td>0.0</td>\n",
       "    </tr>\n",
       "    <tr>\n",
       "      <th>1</th>\n",
       "      <td>0.0</td>\n",
       "      <td>0.0</td>\n",
       "      <td>0.0</td>\n",
       "      <td>0.0</td>\n",
       "      <td>0.0</td>\n",
       "      <td>0.0</td>\n",
       "      <td>0.0</td>\n",
       "      <td>0.0</td>\n",
       "      <td>0.0</td>\n",
       "      <td>0.0</td>\n",
       "      <td>...</td>\n",
       "      <td>1.0</td>\n",
       "      <td>0.0</td>\n",
       "      <td>0.0</td>\n",
       "      <td>0.0</td>\n",
       "      <td>0.0</td>\n",
       "      <td>0.0</td>\n",
       "      <td>0.0</td>\n",
       "      <td>0.0</td>\n",
       "      <td>1.0</td>\n",
       "      <td>0.0</td>\n",
       "    </tr>\n",
       "    <tr>\n",
       "      <th>2</th>\n",
       "      <td>0.0</td>\n",
       "      <td>0.0</td>\n",
       "      <td>0.0</td>\n",
       "      <td>0.0</td>\n",
       "      <td>0.0</td>\n",
       "      <td>0.0</td>\n",
       "      <td>0.0</td>\n",
       "      <td>0.0</td>\n",
       "      <td>0.0</td>\n",
       "      <td>0.0</td>\n",
       "      <td>...</td>\n",
       "      <td>0.0</td>\n",
       "      <td>0.0</td>\n",
       "      <td>0.0</td>\n",
       "      <td>0.0</td>\n",
       "      <td>0.0</td>\n",
       "      <td>0.0</td>\n",
       "      <td>0.0</td>\n",
       "      <td>0.0</td>\n",
       "      <td>1.0</td>\n",
       "      <td>0.0</td>\n",
       "    </tr>\n",
       "    <tr>\n",
       "      <th>3</th>\n",
       "      <td>0.0</td>\n",
       "      <td>0.0</td>\n",
       "      <td>0.0</td>\n",
       "      <td>0.0</td>\n",
       "      <td>0.0</td>\n",
       "      <td>0.0</td>\n",
       "      <td>0.0</td>\n",
       "      <td>0.0</td>\n",
       "      <td>0.0</td>\n",
       "      <td>0.0</td>\n",
       "      <td>...</td>\n",
       "      <td>0.0</td>\n",
       "      <td>1.0</td>\n",
       "      <td>0.0</td>\n",
       "      <td>0.0</td>\n",
       "      <td>0.0</td>\n",
       "      <td>0.0</td>\n",
       "      <td>0.0</td>\n",
       "      <td>0.0</td>\n",
       "      <td>1.0</td>\n",
       "      <td>0.0</td>\n",
       "    </tr>\n",
       "    <tr>\n",
       "      <th>4</th>\n",
       "      <td>0.0</td>\n",
       "      <td>0.0</td>\n",
       "      <td>0.0</td>\n",
       "      <td>0.0</td>\n",
       "      <td>0.0</td>\n",
       "      <td>0.0</td>\n",
       "      <td>0.0</td>\n",
       "      <td>0.0</td>\n",
       "      <td>0.0</td>\n",
       "      <td>0.0</td>\n",
       "      <td>...</td>\n",
       "      <td>0.0</td>\n",
       "      <td>0.0</td>\n",
       "      <td>1.0</td>\n",
       "      <td>0.0</td>\n",
       "      <td>0.0</td>\n",
       "      <td>0.0</td>\n",
       "      <td>0.0</td>\n",
       "      <td>0.0</td>\n",
       "      <td>1.0</td>\n",
       "      <td>0.0</td>\n",
       "    </tr>\n",
       "  </tbody>\n",
       "</table>\n",
       "<p>5 rows × 114 columns</p>\n",
       "</div>"
      ],
      "text/plain": [
       "   APPLICATION_TYPE_T10  APPLICATION_TYPE_T12  APPLICATION_TYPE_T13  \\\n",
       "0                   1.0                   0.0                   0.0   \n",
       "1                   0.0                   0.0                   0.0   \n",
       "2                   0.0                   0.0                   0.0   \n",
       "3                   0.0                   0.0                   0.0   \n",
       "4                   0.0                   0.0                   0.0   \n",
       "\n",
       "   APPLICATION_TYPE_T14  APPLICATION_TYPE_T15  APPLICATION_TYPE_T17  \\\n",
       "0                   0.0                   0.0                   0.0   \n",
       "1                   0.0                   0.0                   0.0   \n",
       "2                   0.0                   0.0                   0.0   \n",
       "3                   0.0                   0.0                   0.0   \n",
       "4                   0.0                   0.0                   0.0   \n",
       "\n",
       "   APPLICATION_TYPE_T19  APPLICATION_TYPE_T2  APPLICATION_TYPE_T25  \\\n",
       "0                   0.0                  0.0                   0.0   \n",
       "1                   0.0                  0.0                   0.0   \n",
       "2                   0.0                  0.0                   0.0   \n",
       "3                   0.0                  0.0                   0.0   \n",
       "4                   0.0                  0.0                   0.0   \n",
       "\n",
       "   APPLICATION_TYPE_T29  ...  INCOME_AMT_1-9999  INCOME_AMT_10000-24999  \\\n",
       "0                   0.0  ...                0.0                     0.0   \n",
       "1                   0.0  ...                1.0                     0.0   \n",
       "2                   0.0  ...                0.0                     0.0   \n",
       "3                   0.0  ...                0.0                     1.0   \n",
       "4                   0.0  ...                0.0                     0.0   \n",
       "\n",
       "   INCOME_AMT_100000-499999  INCOME_AMT_10M-50M  INCOME_AMT_1M-5M  \\\n",
       "0                       0.0                 0.0               0.0   \n",
       "1                       0.0                 0.0               0.0   \n",
       "2                       0.0                 0.0               0.0   \n",
       "3                       0.0                 0.0               0.0   \n",
       "4                       1.0                 0.0               0.0   \n",
       "\n",
       "   INCOME_AMT_25000-99999  INCOME_AMT_50M+  INCOME_AMT_5M-10M  \\\n",
       "0                     0.0              0.0                0.0   \n",
       "1                     0.0              0.0                0.0   \n",
       "2                     0.0              0.0                0.0   \n",
       "3                     0.0              0.0                0.0   \n",
       "4                     0.0              0.0                0.0   \n",
       "\n",
       "   SPECIAL_CONSIDERATIONS_N  SPECIAL_CONSIDERATIONS_Y  \n",
       "0                       1.0                       0.0  \n",
       "1                       1.0                       0.0  \n",
       "2                       1.0                       0.0  \n",
       "3                       1.0                       0.0  \n",
       "4                       1.0                       0.0  \n",
       "\n",
       "[5 rows x 114 columns]"
      ]
     },
     "execution_count": 8,
     "metadata": {},
     "output_type": "execute_result"
    }
   ],
   "source": [
    "# Create a DataFrame with the encoded variables\n",
    "encoded_df = encoded_df = pd.DataFrame(\n",
    "    encoded_data,\n",
    "    columns = enc.get_feature_names(categorical_variables)\n",
    ")\n",
    "\n",
    "\n",
    "# Review the DataFrame\n",
    "encoded_df.head()"
   ]
  },
  {
   "cell_type": "markdown",
   "metadata": {},
   "source": [
    "### Step 4: Add the original DataFrame’s numerical variables to the DataFrame containing the encoded variables.\n",
    "\n",
    "> **Note** To complete this step, you will employ the Pandas `concat()` function that was introduced earlier in this course. "
   ]
  },
  {
   "cell_type": "code",
   "execution_count": 9,
   "metadata": {},
   "outputs": [
    {
     "data": {
      "text/html": [
       "<div>\n",
       "<style scoped>\n",
       "    .dataframe tbody tr th:only-of-type {\n",
       "        vertical-align: middle;\n",
       "    }\n",
       "\n",
       "    .dataframe tbody tr th {\n",
       "        vertical-align: top;\n",
       "    }\n",
       "\n",
       "    .dataframe thead th {\n",
       "        text-align: right;\n",
       "    }\n",
       "</style>\n",
       "<table border=\"1\" class=\"dataframe\">\n",
       "  <thead>\n",
       "    <tr style=\"text-align: right;\">\n",
       "      <th></th>\n",
       "      <th>APPLICATION_TYPE_T10</th>\n",
       "      <th>APPLICATION_TYPE_T12</th>\n",
       "      <th>APPLICATION_TYPE_T13</th>\n",
       "      <th>APPLICATION_TYPE_T14</th>\n",
       "      <th>APPLICATION_TYPE_T15</th>\n",
       "      <th>APPLICATION_TYPE_T17</th>\n",
       "      <th>APPLICATION_TYPE_T19</th>\n",
       "      <th>APPLICATION_TYPE_T2</th>\n",
       "      <th>APPLICATION_TYPE_T25</th>\n",
       "      <th>APPLICATION_TYPE_T29</th>\n",
       "      <th>...</th>\n",
       "      <th>INCOME_AMT_10M-50M</th>\n",
       "      <th>INCOME_AMT_1M-5M</th>\n",
       "      <th>INCOME_AMT_25000-99999</th>\n",
       "      <th>INCOME_AMT_50M+</th>\n",
       "      <th>INCOME_AMT_5M-10M</th>\n",
       "      <th>SPECIAL_CONSIDERATIONS_N</th>\n",
       "      <th>SPECIAL_CONSIDERATIONS_Y</th>\n",
       "      <th>STATUS</th>\n",
       "      <th>ASK_AMT</th>\n",
       "      <th>IS_SUCCESSFUL</th>\n",
       "    </tr>\n",
       "  </thead>\n",
       "  <tbody>\n",
       "    <tr>\n",
       "      <th>0</th>\n",
       "      <td>1.0</td>\n",
       "      <td>0.0</td>\n",
       "      <td>0.0</td>\n",
       "      <td>0.0</td>\n",
       "      <td>0.0</td>\n",
       "      <td>0.0</td>\n",
       "      <td>0.0</td>\n",
       "      <td>0.0</td>\n",
       "      <td>0.0</td>\n",
       "      <td>0.0</td>\n",
       "      <td>...</td>\n",
       "      <td>0.0</td>\n",
       "      <td>0.0</td>\n",
       "      <td>0.0</td>\n",
       "      <td>0.0</td>\n",
       "      <td>0.0</td>\n",
       "      <td>1.0</td>\n",
       "      <td>0.0</td>\n",
       "      <td>1</td>\n",
       "      <td>5000</td>\n",
       "      <td>1</td>\n",
       "    </tr>\n",
       "    <tr>\n",
       "      <th>1</th>\n",
       "      <td>0.0</td>\n",
       "      <td>0.0</td>\n",
       "      <td>0.0</td>\n",
       "      <td>0.0</td>\n",
       "      <td>0.0</td>\n",
       "      <td>0.0</td>\n",
       "      <td>0.0</td>\n",
       "      <td>0.0</td>\n",
       "      <td>0.0</td>\n",
       "      <td>0.0</td>\n",
       "      <td>...</td>\n",
       "      <td>0.0</td>\n",
       "      <td>0.0</td>\n",
       "      <td>0.0</td>\n",
       "      <td>0.0</td>\n",
       "      <td>0.0</td>\n",
       "      <td>1.0</td>\n",
       "      <td>0.0</td>\n",
       "      <td>1</td>\n",
       "      <td>108590</td>\n",
       "      <td>1</td>\n",
       "    </tr>\n",
       "    <tr>\n",
       "      <th>2</th>\n",
       "      <td>0.0</td>\n",
       "      <td>0.0</td>\n",
       "      <td>0.0</td>\n",
       "      <td>0.0</td>\n",
       "      <td>0.0</td>\n",
       "      <td>0.0</td>\n",
       "      <td>0.0</td>\n",
       "      <td>0.0</td>\n",
       "      <td>0.0</td>\n",
       "      <td>0.0</td>\n",
       "      <td>...</td>\n",
       "      <td>0.0</td>\n",
       "      <td>0.0</td>\n",
       "      <td>0.0</td>\n",
       "      <td>0.0</td>\n",
       "      <td>0.0</td>\n",
       "      <td>1.0</td>\n",
       "      <td>0.0</td>\n",
       "      <td>1</td>\n",
       "      <td>5000</td>\n",
       "      <td>0</td>\n",
       "    </tr>\n",
       "    <tr>\n",
       "      <th>3</th>\n",
       "      <td>0.0</td>\n",
       "      <td>0.0</td>\n",
       "      <td>0.0</td>\n",
       "      <td>0.0</td>\n",
       "      <td>0.0</td>\n",
       "      <td>0.0</td>\n",
       "      <td>0.0</td>\n",
       "      <td>0.0</td>\n",
       "      <td>0.0</td>\n",
       "      <td>0.0</td>\n",
       "      <td>...</td>\n",
       "      <td>0.0</td>\n",
       "      <td>0.0</td>\n",
       "      <td>0.0</td>\n",
       "      <td>0.0</td>\n",
       "      <td>0.0</td>\n",
       "      <td>1.0</td>\n",
       "      <td>0.0</td>\n",
       "      <td>1</td>\n",
       "      <td>6692</td>\n",
       "      <td>1</td>\n",
       "    </tr>\n",
       "    <tr>\n",
       "      <th>4</th>\n",
       "      <td>0.0</td>\n",
       "      <td>0.0</td>\n",
       "      <td>0.0</td>\n",
       "      <td>0.0</td>\n",
       "      <td>0.0</td>\n",
       "      <td>0.0</td>\n",
       "      <td>0.0</td>\n",
       "      <td>0.0</td>\n",
       "      <td>0.0</td>\n",
       "      <td>0.0</td>\n",
       "      <td>...</td>\n",
       "      <td>0.0</td>\n",
       "      <td>0.0</td>\n",
       "      <td>0.0</td>\n",
       "      <td>0.0</td>\n",
       "      <td>0.0</td>\n",
       "      <td>1.0</td>\n",
       "      <td>0.0</td>\n",
       "      <td>1</td>\n",
       "      <td>142590</td>\n",
       "      <td>1</td>\n",
       "    </tr>\n",
       "  </tbody>\n",
       "</table>\n",
       "<p>5 rows × 117 columns</p>\n",
       "</div>"
      ],
      "text/plain": [
       "   APPLICATION_TYPE_T10  APPLICATION_TYPE_T12  APPLICATION_TYPE_T13  \\\n",
       "0                   1.0                   0.0                   0.0   \n",
       "1                   0.0                   0.0                   0.0   \n",
       "2                   0.0                   0.0                   0.0   \n",
       "3                   0.0                   0.0                   0.0   \n",
       "4                   0.0                   0.0                   0.0   \n",
       "\n",
       "   APPLICATION_TYPE_T14  APPLICATION_TYPE_T15  APPLICATION_TYPE_T17  \\\n",
       "0                   0.0                   0.0                   0.0   \n",
       "1                   0.0                   0.0                   0.0   \n",
       "2                   0.0                   0.0                   0.0   \n",
       "3                   0.0                   0.0                   0.0   \n",
       "4                   0.0                   0.0                   0.0   \n",
       "\n",
       "   APPLICATION_TYPE_T19  APPLICATION_TYPE_T2  APPLICATION_TYPE_T25  \\\n",
       "0                   0.0                  0.0                   0.0   \n",
       "1                   0.0                  0.0                   0.0   \n",
       "2                   0.0                  0.0                   0.0   \n",
       "3                   0.0                  0.0                   0.0   \n",
       "4                   0.0                  0.0                   0.0   \n",
       "\n",
       "   APPLICATION_TYPE_T29  ...  INCOME_AMT_10M-50M  INCOME_AMT_1M-5M  \\\n",
       "0                   0.0  ...                 0.0               0.0   \n",
       "1                   0.0  ...                 0.0               0.0   \n",
       "2                   0.0  ...                 0.0               0.0   \n",
       "3                   0.0  ...                 0.0               0.0   \n",
       "4                   0.0  ...                 0.0               0.0   \n",
       "\n",
       "   INCOME_AMT_25000-99999  INCOME_AMT_50M+  INCOME_AMT_5M-10M  \\\n",
       "0                     0.0              0.0                0.0   \n",
       "1                     0.0              0.0                0.0   \n",
       "2                     0.0              0.0                0.0   \n",
       "3                     0.0              0.0                0.0   \n",
       "4                     0.0              0.0                0.0   \n",
       "\n",
       "   SPECIAL_CONSIDERATIONS_N  SPECIAL_CONSIDERATIONS_Y  STATUS  ASK_AMT  \\\n",
       "0                       1.0                       0.0       1     5000   \n",
       "1                       1.0                       0.0       1   108590   \n",
       "2                       1.0                       0.0       1     5000   \n",
       "3                       1.0                       0.0       1     6692   \n",
       "4                       1.0                       0.0       1   142590   \n",
       "\n",
       "   IS_SUCCESSFUL  \n",
       "0              1  \n",
       "1              1  \n",
       "2              0  \n",
       "3              1  \n",
       "4              1  \n",
       "\n",
       "[5 rows x 117 columns]"
      ]
     },
     "execution_count": 9,
     "metadata": {},
     "output_type": "execute_result"
    }
   ],
   "source": [
    "# Add the numerical variables from the original DataFrame to the one-hot encoding DataFrame\n",
    "# applicant_dat_df.loc[:,applicant_data_df.dtypes==\"int64\"]\n",
    "encoded_and_num_df =pd.concat([encoded_df, applicant_data_df.loc[:,applicant_data_df.dtypes==\"int64\"]],axis=1)\n",
    "# Review the Dataframe\n",
    "encoded_and_num_df.head()"
   ]
  },
  {
   "cell_type": "markdown",
   "metadata": {},
   "source": [
    "### Step 5: Using the preprocessed data, create the features (`X`) and target (`y`) datasets. The target dataset should be defined by the preprocessed DataFrame column “IS_SUCCESSFUL”. The remaining columns should define the features dataset. \n",
    "\n"
   ]
  },
  {
   "cell_type": "code",
   "execution_count": 10,
   "metadata": {},
   "outputs": [
    {
     "data": {
      "text/plain": [
       "0    1\n",
       "1    1\n",
       "2    0\n",
       "3    1\n",
       "4    1\n",
       "Name: IS_SUCCESSFUL, dtype: int64"
      ]
     },
     "execution_count": 10,
     "metadata": {},
     "output_type": "execute_result"
    }
   ],
   "source": [
    "# Define the target set y using the IS_SUCCESSFUL column\n",
    "y = encoded_and_num_df[\"IS_SUCCESSFUL\"]\n",
    "\n",
    "# Display a sample of y\n",
    "y[:5]"
   ]
  },
  {
   "cell_type": "code",
   "execution_count": 11,
   "metadata": {},
   "outputs": [
    {
     "data": {
      "text/plain": [
       "Index(['APPLICATION_TYPE_T10', 'APPLICATION_TYPE_T12', 'APPLICATION_TYPE_T13',\n",
       "       'APPLICATION_TYPE_T14', 'APPLICATION_TYPE_T15', 'APPLICATION_TYPE_T17',\n",
       "       'APPLICATION_TYPE_T19', 'APPLICATION_TYPE_T2', 'APPLICATION_TYPE_T25',\n",
       "       'APPLICATION_TYPE_T29',\n",
       "       ...\n",
       "       'INCOME_AMT_100000-499999', 'INCOME_AMT_10M-50M', 'INCOME_AMT_1M-5M',\n",
       "       'INCOME_AMT_25000-99999', 'INCOME_AMT_50M+', 'INCOME_AMT_5M-10M',\n",
       "       'SPECIAL_CONSIDERATIONS_N', 'SPECIAL_CONSIDERATIONS_Y', 'STATUS',\n",
       "       'ASK_AMT'],\n",
       "      dtype='object', length=116)"
      ]
     },
     "execution_count": 11,
     "metadata": {},
     "output_type": "execute_result"
    }
   ],
   "source": [
    "# Define features set X by selecting all columns but IS_SUCCESSFUL\n",
    "X = encoded_and_num_df.drop(\"IS_SUCCESSFUL\",axis=1)\n",
    "\n",
    "# Review the features DataFrame\n",
    "X.columns\n"
   ]
  },
  {
   "cell_type": "markdown",
   "metadata": {},
   "source": [
    "### Step 6: Split the features and target sets into training and testing datasets.\n"
   ]
  },
  {
   "cell_type": "code",
   "execution_count": 12,
   "metadata": {},
   "outputs": [],
   "source": [
    "# Split the preprocessed data into a training and testing dataset\n",
    "# Assign the function a random_state equal to 1\n",
    "X_train, X_test, y_train, y_test = train_test_split(X,y,random_state=1)\n"
   ]
  },
  {
   "cell_type": "markdown",
   "metadata": {},
   "source": [
    "### Step 7: Use scikit-learn's `StandardScaler` to scale the features data."
   ]
  },
  {
   "cell_type": "code",
   "execution_count": 13,
   "metadata": {},
   "outputs": [],
   "source": [
    "# Create a StandardScaler instance\n",
    "scaler = StandardScaler()\n",
    "\n",
    "# Fit the scaler to the features training dataset\n",
    "X_scaler = scaler.fit(X_train)  #scaler.fit_transform(X_train)\n",
    "\n",
    "# Fit the scaler to the features training dataset\n",
    "X_train_scaled =scaler.transform(X_train)\n",
    "X_test_scaled =scaler.transform(X_test)\n"
   ]
  },
  {
   "cell_type": "markdown",
   "metadata": {},
   "source": [
    "---\n",
    "\n",
    "## Compile and Evaluate a Binary Classification Model Using a Neural Network"
   ]
  },
  {
   "cell_type": "markdown",
   "metadata": {},
   "source": [
    "### Step 1: Create a deep neural network by assigning the number of input features, the number of layers, and the number of neurons on each layer using Tensorflow’s Keras.\n",
    "\n",
    "> **Hint** You can start with a two-layer deep neural network model that uses the `relu` activation function for both layers.\n"
   ]
  },
  {
   "cell_type": "code",
   "execution_count": 14,
   "metadata": {},
   "outputs": [
    {
     "data": {
      "text/plain": [
       "116"
      ]
     },
     "execution_count": 14,
     "metadata": {},
     "output_type": "execute_result"
    }
   ],
   "source": [
    "# Define the the number of inputs (features) to the model\n",
    "number_input_features = len(X_train.iloc[0])\n",
    "\n",
    "# Review the number of features\n",
    "number_input_features\n"
   ]
  },
  {
   "cell_type": "code",
   "execution_count": 15,
   "metadata": {},
   "outputs": [
    {
     "data": {
      "text/plain": [
       "58"
      ]
     },
     "execution_count": 15,
     "metadata": {},
     "output_type": "execute_result"
    }
   ],
   "source": [
    "# Define the number of hidden nodes for the first hidden layer\n",
    "hidden_nodes_layer1 = (number_input_features)//2\n",
    "\n",
    "# Review the number hidden nodes in the first layer\n",
    "hidden_nodes_layer1\n"
   ]
  },
  {
   "cell_type": "code",
   "execution_count": 16,
   "metadata": {},
   "outputs": [],
   "source": [
    "# Define the number of neurons in the output layer\n",
    "number_output_neurons = 1"
   ]
  },
  {
   "cell_type": "code",
   "execution_count": 17,
   "metadata": {},
   "outputs": [
    {
     "data": {
      "text/plain": [
       "29"
      ]
     },
     "execution_count": 17,
     "metadata": {},
     "output_type": "execute_result"
    }
   ],
   "source": [
    "# Define the number of hidden nodes for the second hidden layer\n",
    "hidden_nodes_layer2 =  (hidden_nodes_layer1)//2\n",
    "\n",
    "# Review the number hidden nodes in the second layer\n",
    "hidden_nodes_layer2\n"
   ]
  },
  {
   "cell_type": "code",
   "execution_count": 18,
   "metadata": {},
   "outputs": [],
   "source": [
    "# Create the Sequential model instance\n",
    "nn = Sequential()"
   ]
  },
  {
   "cell_type": "code",
   "execution_count": 19,
   "metadata": {},
   "outputs": [],
   "source": [
    "# Add the first hidden layer\n",
    "nn.add(Dense(units=hidden_nodes_layer1,input_dim=number_input_features, activation=\"relu\"))\n"
   ]
  },
  {
   "cell_type": "code",
   "execution_count": 20,
   "metadata": {},
   "outputs": [],
   "source": [
    "# Add the second hidden layer\n",
    "nn.add(Dense(units=hidden_nodes_layer2, activation=\"relu\"))"
   ]
  },
  {
   "cell_type": "code",
   "execution_count": 21,
   "metadata": {},
   "outputs": [],
   "source": [
    "# Add the output layer to the model specifying the number of output neurons and activation function\n",
    "nn.add(Dense(units=number_output_neurons, activation=\"sigmoid\"))"
   ]
  },
  {
   "cell_type": "code",
   "execution_count": 22,
   "metadata": {},
   "outputs": [
    {
     "name": "stdout",
     "output_type": "stream",
     "text": [
      "Model: \"sequential\"\n",
      "_________________________________________________________________\n",
      " Layer (type)                Output Shape              Param #   \n",
      "=================================================================\n",
      " dense (Dense)               (None, 58)                6786      \n",
      "                                                                 \n",
      " dense_1 (Dense)             (None, 29)                1711      \n",
      "                                                                 \n",
      " dense_2 (Dense)             (None, 1)                 30        \n",
      "                                                                 \n",
      "=================================================================\n",
      "Total params: 8,527\n",
      "Trainable params: 8,527\n",
      "Non-trainable params: 0\n",
      "_________________________________________________________________\n"
     ]
    }
   ],
   "source": [
    "# Display the Sequential model summary\n",
    "nn.summary()"
   ]
  },
  {
   "cell_type": "markdown",
   "metadata": {},
   "source": [
    "### Step 2: Compile and fit the model using the `binary_crossentropy` loss function, the `adam` optimizer, and the `accuracy` evaluation metric.\n"
   ]
  },
  {
   "cell_type": "code",
   "execution_count": 23,
   "metadata": {},
   "outputs": [],
   "source": [
    "# Compile the Sequential model\n",
    "nn.compile(loss=\"binary_crossentropy\", optimizer=\"adam\", metrics=[\"accuracy\"])"
   ]
  },
  {
   "cell_type": "code",
   "execution_count": 24,
   "metadata": {
    "collapsed": true,
    "jupyter": {
     "outputs_hidden": true
    },
    "tags": []
   },
   "outputs": [
    {
     "name": "stdout",
     "output_type": "stream",
     "text": [
      "Epoch 1/50\n",
      "804/804 [==============================] - 1s 788us/step - loss: 0.5797 - accuracy: 0.7168\n",
      "Epoch 2/50\n",
      "804/804 [==============================] - 1s 782us/step - loss: 0.5547 - accuracy: 0.7305\n",
      "Epoch 3/50\n",
      "804/804 [==============================] - 1s 782us/step - loss: 0.5512 - accuracy: 0.7309\n",
      "Epoch 4/50\n",
      "804/804 [==============================] - 1s 785us/step - loss: 0.5488 - accuracy: 0.7312\n",
      "Epoch 5/50\n",
      "804/804 [==============================] - 1s 780us/step - loss: 0.5468 - accuracy: 0.7331\n",
      "Epoch 6/50\n",
      "804/804 [==============================] - 1s 787us/step - loss: 0.5457 - accuracy: 0.7325\n",
      "Epoch 7/50\n",
      "804/804 [==============================] - 1s 793us/step - loss: 0.5448 - accuracy: 0.7321\n",
      "Epoch 8/50\n",
      "804/804 [==============================] - 1s 792us/step - loss: 0.5436 - accuracy: 0.7346\n",
      "Epoch 9/50\n",
      "804/804 [==============================] - 1s 786us/step - loss: 0.5433 - accuracy: 0.7331\n",
      "Epoch 10/50\n",
      "804/804 [==============================] - 1s 801us/step - loss: 0.5425 - accuracy: 0.7349\n",
      "Epoch 11/50\n",
      "804/804 [==============================] - 1s 789us/step - loss: 0.5419 - accuracy: 0.7360\n",
      "Epoch 12/50\n",
      "804/804 [==============================] - 1s 790us/step - loss: 0.5412 - accuracy: 0.7348\n",
      "Epoch 13/50\n",
      "804/804 [==============================] - 1s 786us/step - loss: 0.5411 - accuracy: 0.7355\n",
      "Epoch 14/50\n",
      "804/804 [==============================] - 1s 796us/step - loss: 0.5406 - accuracy: 0.7361\n",
      "Epoch 15/50\n",
      "804/804 [==============================] - 1s 787us/step - loss: 0.5408 - accuracy: 0.7367\n",
      "Epoch 16/50\n",
      "804/804 [==============================] - 1s 800us/step - loss: 0.5399 - accuracy: 0.7361\n",
      "Epoch 17/50\n",
      "804/804 [==============================] - 1s 790us/step - loss: 0.5392 - accuracy: 0.7354\n",
      "Epoch 18/50\n",
      "804/804 [==============================] - 1s 799us/step - loss: 0.5395 - accuracy: 0.7363\n",
      "Epoch 19/50\n",
      "804/804 [==============================] - 1s 795us/step - loss: 0.5388 - accuracy: 0.7368\n",
      "Epoch 20/50\n",
      "804/804 [==============================] - 1s 797us/step - loss: 0.5390 - accuracy: 0.7371\n",
      "Epoch 21/50\n",
      "804/804 [==============================] - 1s 819us/step - loss: 0.5383 - accuracy: 0.7367\n",
      "Epoch 22/50\n",
      "804/804 [==============================] - 1s 802us/step - loss: 0.5375 - accuracy: 0.7385\n",
      "Epoch 23/50\n",
      "804/804 [==============================] - 1s 796us/step - loss: 0.5380 - accuracy: 0.7375\n",
      "Epoch 24/50\n",
      "804/804 [==============================] - 1s 799us/step - loss: 0.5379 - accuracy: 0.7373\n",
      "Epoch 25/50\n",
      "804/804 [==============================] - 1s 798us/step - loss: 0.5371 - accuracy: 0.7388\n",
      "Epoch 26/50\n",
      "804/804 [==============================] - 1s 803us/step - loss: 0.5371 - accuracy: 0.7381\n",
      "Epoch 27/50\n",
      "804/804 [==============================] - 1s 802us/step - loss: 0.5365 - accuracy: 0.7395\n",
      "Epoch 28/50\n",
      "804/804 [==============================] - 1s 799us/step - loss: 0.5361 - accuracy: 0.7388\n",
      "Epoch 29/50\n",
      "804/804 [==============================] - 1s 814us/step - loss: 0.5361 - accuracy: 0.7388\n",
      "Epoch 30/50\n",
      "804/804 [==============================] - 1s 801us/step - loss: 0.5359 - accuracy: 0.7386\n",
      "Epoch 31/50\n",
      "804/804 [==============================] - 1s 803us/step - loss: 0.5354 - accuracy: 0.7385\n",
      "Epoch 32/50\n",
      "804/804 [==============================] - 1s 806us/step - loss: 0.5356 - accuracy: 0.7386\n",
      "Epoch 33/50\n",
      "804/804 [==============================] - 1s 807us/step - loss: 0.5347 - accuracy: 0.7394\n",
      "Epoch 34/50\n",
      "804/804 [==============================] - 1s 818us/step - loss: 0.5342 - accuracy: 0.7406\n",
      "Epoch 35/50\n",
      "804/804 [==============================] - 1s 825us/step - loss: 0.5351 - accuracy: 0.7398\n",
      "Epoch 36/50\n",
      "804/804 [==============================] - 1s 835us/step - loss: 0.5350 - accuracy: 0.7397\n",
      "Epoch 37/50\n",
      "804/804 [==============================] - 1s 823us/step - loss: 0.5342 - accuracy: 0.7398\n",
      "Epoch 38/50\n",
      "804/804 [==============================] - 1s 809us/step - loss: 0.5346 - accuracy: 0.7398\n",
      "Epoch 39/50\n",
      "804/804 [==============================] - 1s 817us/step - loss: 0.5341 - accuracy: 0.7404\n",
      "Epoch 40/50\n",
      "804/804 [==============================] - 1s 813us/step - loss: 0.5338 - accuracy: 0.7402\n",
      "Epoch 41/50\n",
      "804/804 [==============================] - 1s 814us/step - loss: 0.5336 - accuracy: 0.7411\n",
      "Epoch 42/50\n",
      "804/804 [==============================] - 1s 815us/step - loss: 0.5332 - accuracy: 0.7400\n",
      "Epoch 43/50\n",
      "804/804 [==============================] - 1s 813us/step - loss: 0.5339 - accuracy: 0.7401\n",
      "Epoch 44/50\n",
      "804/804 [==============================] - 1s 821us/step - loss: 0.5333 - accuracy: 0.7396\n",
      "Epoch 45/50\n",
      "804/804 [==============================] - 1s 821us/step - loss: 0.5328 - accuracy: 0.7410\n",
      "Epoch 46/50\n",
      "804/804 [==============================] - 1s 818us/step - loss: 0.5331 - accuracy: 0.7402\n",
      "Epoch 47/50\n",
      "804/804 [==============================] - 1s 800us/step - loss: 0.5326 - accuracy: 0.7404\n",
      "Epoch 48/50\n",
      "804/804 [==============================] - 1s 811us/step - loss: 0.5329 - accuracy: 0.7404\n",
      "Epoch 49/50\n",
      "804/804 [==============================] - 1s 802us/step - loss: 0.5327 - accuracy: 0.7407\n",
      "Epoch 50/50\n",
      "804/804 [==============================] - 1s 806us/step - loss: 0.5323 - accuracy: 0.7406\n"
     ]
    }
   ],
   "source": [
    "# Fit the model using 50 epochs and the training data\n",
    "fit_model=nn.fit(X_train_scaled,y_train,epochs=50)\n"
   ]
  },
  {
   "cell_type": "code",
   "execution_count": null,
   "metadata": {},
   "outputs": [],
   "source": []
  },
  {
   "cell_type": "markdown",
   "metadata": {},
   "source": [
    "### Step 3: Evaluate the model using the test data to determine the model’s loss and accuracy.\n"
   ]
  },
  {
   "cell_type": "code",
   "execution_count": 25,
   "metadata": {},
   "outputs": [
    {
     "name": "stdout",
     "output_type": "stream",
     "text": [
      "268/268 - 0s - loss: 0.5576 - accuracy: 0.7287 - 227ms/epoch - 845us/step\n",
      "Loss: 0.5576319694519043, Accuracy: 0.7287463545799255\n"
     ]
    }
   ],
   "source": [
    "# Evaluate the model loss and accuracy metrics using the evaluate method and the test data\n",
    "model_loss, model_accuracy = nn.evaluate(X_test_scaled,y_test,verbose=2)\n",
    "# Display the model loss and accuracy results\n",
    "print(f\"Loss: {model_loss}, Accuracy: {model_accuracy}\")"
   ]
  },
  {
   "cell_type": "markdown",
   "metadata": {},
   "source": [
    "### Step 4: Save and export your model to an HDF5 file, and name the file `AlphabetSoup.h5`. \n"
   ]
  },
  {
   "cell_type": "code",
   "execution_count": 98,
   "metadata": {},
   "outputs": [],
   "source": [
    "# Set the model's file path\n",
    "file_path = \"NN_models/succecful_applicant_finder_model.h5\"\n",
    "\n",
    "# Export your model to a HDF5 file\n",
    "nn.save(file_path)"
   ]
  },
  {
   "cell_type": "markdown",
   "metadata": {},
   "source": [
    "---\n",
    "\n",
    "## Optimize the neural network model\n"
   ]
  },
  {
   "cell_type": "markdown",
   "metadata": {},
   "source": [
    "### Step 1: Define at least three new deep neural network models (resulting in the original plus 3 optimization attempts). With each, try to improve on your first model’s predictive accuracy.\n",
    "\n",
    "> **Rewind** Recall that perfect accuracy has a value of 1, so accuracy improves as its value moves closer to 1. To optimize your model for a predictive accuracy as close to 1 as possible, you can use any or all of the following techniques:\n",
    ">\n",
    "> * Adjust the input data by dropping different features columns to ensure that no variables or outliers confuse the model.\n",
    ">\n",
    "> * Add more neurons (nodes) to a hidden layer.\n",
    ">\n",
    "> * Add more hidden layers.\n",
    ">\n",
    "> * Use different activation functions for the hidden layers.\n",
    ">\n",
    "> * Add to or reduce the number of epochs in the training regimen.\n"
   ]
  },
  {
   "cell_type": "markdown",
   "metadata": {},
   "source": [
    "### Alternative Model 1"
   ]
  },
  {
   "cell_type": "code",
   "execution_count": 27,
   "metadata": {},
   "outputs": [
    {
     "data": {
      "text/plain": [
       "116"
      ]
     },
     "execution_count": 27,
     "metadata": {},
     "output_type": "execute_result"
    }
   ],
   "source": [
    "# Define the the number of inputs (features) to the model\n",
    "number_input_features = len(X_train.iloc[0])\n",
    "\n",
    "# Review the number of features\n",
    "number_input_features"
   ]
  },
  {
   "cell_type": "code",
   "execution_count": 28,
   "metadata": {},
   "outputs": [],
   "source": [
    "# Define the number of neurons in the output layer\n",
    "number_output_neurons_A1 = 1"
   ]
  },
  {
   "cell_type": "code",
   "execution_count": 29,
   "metadata": {},
   "outputs": [
    {
     "data": {
      "text/plain": [
       "96.0"
      ]
     },
     "execution_count": 29,
     "metadata": {},
     "output_type": "execute_result"
    }
   ],
   "source": [
    "# Define the number of hidden nodes for the first hidden layer\n",
    "hidden_nodes_layer1_A1 = number_input_features//1.2\n",
    "\n",
    "# Review the number of hidden nodes in the first layer\n",
    "hidden_nodes_layer1_A1"
   ]
  },
  {
   "cell_type": "code",
   "execution_count": 30,
   "metadata": {},
   "outputs": [
    {
     "data": {
      "text/plain": [
       "38"
      ]
     },
     "execution_count": 30,
     "metadata": {},
     "output_type": "execute_result"
    }
   ],
   "source": [
    "# Define the number of hidden nodes for the first hidden layer\n",
    "hidden_nodes_layer2_A1 = number_input_features//3\n",
    "\n",
    "# Review the number of hidden nodes in the first layer\n",
    "hidden_nodes_layer2_A1"
   ]
  },
  {
   "cell_type": "code",
   "execution_count": 31,
   "metadata": {},
   "outputs": [
    {
     "data": {
      "text/plain": [
       "7"
      ]
     },
     "execution_count": 31,
     "metadata": {},
     "output_type": "execute_result"
    }
   ],
   "source": [
    "# Define the number of hidden nodes for the first hidden layer\n",
    "hidden_nodes_layer3_A1 = number_input_features//15\n",
    "\n",
    "# Review the number of hidden nodes in the first layer\n",
    "hidden_nodes_layer3_A1"
   ]
  },
  {
   "cell_type": "code",
   "execution_count": null,
   "metadata": {},
   "outputs": [],
   "source": [
    "# Create the Sequential model instance\n",
    "nn_A1 =Sequential()"
   ]
  },
  {
   "cell_type": "code",
   "execution_count": 33,
   "metadata": {},
   "outputs": [
    {
     "name": "stdout",
     "output_type": "stream",
     "text": [
      "Model: \"sequential_1\"\n",
      "_________________________________________________________________\n",
      " Layer (type)                Output Shape              Param #   \n",
      "=================================================================\n",
      " dense_3 (Dense)             (None, 96)                11232     \n",
      "                                                                 \n",
      " dense_4 (Dense)             (None, 38)                3686      \n",
      "                                                                 \n",
      " dense_5 (Dense)             (None, 7)                 273       \n",
      "                                                                 \n",
      " dense_6 (Dense)             (None, 1)                 8         \n",
      "                                                                 \n",
      "=================================================================\n",
      "Total params: 15,199\n",
      "Trainable params: 15,199\n",
      "Non-trainable params: 0\n",
      "_________________________________________________________________\n"
     ]
    }
   ],
   "source": [
    "# First hidden layer\n",
    "nn_A1.add(Dense(units=hidden_nodes_layer1_A1,input_dim=number_input_features, activation=\"relu\"))\n",
    "\n",
    "nn_A1.add(Dense(units=hidden_nodes_layer2_A1, activation=\"relu\"))\n",
    "\n",
    "\n",
    "nn_A1.add(Dense(units=hidden_nodes_layer3_A1, activation=\"relu\"))\n",
    "\n",
    "\n",
    "# Output layer\n",
    "nn_A1.add(Dense(units=number_output_neurons_A1,activation=\"sigmoid\"))\n",
    "\n",
    "\n",
    "\n",
    "# Check the structure of the model\n",
    "nn_A1.summary()"
   ]
  },
  {
   "cell_type": "code",
   "execution_count": 34,
   "metadata": {},
   "outputs": [],
   "source": [
    "# Compile the Sequential model\n",
    "nn_A1.compile(loss=\"mean_squared_error\", optimizer=\"adamax\", metrics=[\"accuracy\"])\n"
   ]
  },
  {
   "cell_type": "code",
   "execution_count": 35,
   "metadata": {
    "collapsed": true,
    "jupyter": {
     "outputs_hidden": true
    },
    "tags": []
   },
   "outputs": [
    {
     "name": "stdout",
     "output_type": "stream",
     "text": [
      "Epoch 1/50\n",
      "804/804 [==============================] - 1s 726us/step - loss: 0.1988 - accuracy: 0.7145\n",
      "Epoch 2/50\n",
      "804/804 [==============================] - 1s 721us/step - loss: 0.1863 - accuracy: 0.7291\n",
      "Epoch 3/50\n",
      "804/804 [==============================] - 1s 721us/step - loss: 0.1848 - accuracy: 0.7302\n",
      "Epoch 4/50\n",
      "804/804 [==============================] - 1s 722us/step - loss: 0.1841 - accuracy: 0.7318\n",
      "Epoch 5/50\n",
      "804/804 [==============================] - 1s 721us/step - loss: 0.1833 - accuracy: 0.7325\n",
      "Epoch 6/50\n",
      "804/804 [==============================] - 1s 726us/step - loss: 0.1830 - accuracy: 0.7334\n",
      "Epoch 7/50\n",
      "804/804 [==============================] - 1s 720us/step - loss: 0.1827 - accuracy: 0.7347\n",
      "Epoch 8/50\n",
      "804/804 [==============================] - 1s 719us/step - loss: 0.1824 - accuracy: 0.7343\n",
      "Epoch 9/50\n",
      "804/804 [==============================] - 1s 722us/step - loss: 0.1821 - accuracy: 0.7357\n",
      "Epoch 10/50\n",
      "804/804 [==============================] - 1s 718us/step - loss: 0.1818 - accuracy: 0.7358\n",
      "Epoch 11/50\n",
      "804/804 [==============================] - 1s 720us/step - loss: 0.1814 - accuracy: 0.7367\n",
      "Epoch 12/50\n",
      "804/804 [==============================] - 1s 721us/step - loss: 0.1814 - accuracy: 0.7366\n",
      "Epoch 13/50\n",
      "804/804 [==============================] - 1s 721us/step - loss: 0.1811 - accuracy: 0.7365\n",
      "Epoch 14/50\n",
      "804/804 [==============================] - 1s 727us/step - loss: 0.1809 - accuracy: 0.7376\n",
      "Epoch 15/50\n",
      "804/804 [==============================] - 1s 719us/step - loss: 0.1807 - accuracy: 0.7375\n",
      "Epoch 16/50\n",
      "804/804 [==============================] - 1s 731us/step - loss: 0.1807 - accuracy: 0.7383\n",
      "Epoch 17/50\n",
      "804/804 [==============================] - 1s 733us/step - loss: 0.1804 - accuracy: 0.7383\n",
      "Epoch 18/50\n",
      "804/804 [==============================] - 1s 723us/step - loss: 0.1803 - accuracy: 0.7379\n",
      "Epoch 19/50\n",
      "804/804 [==============================] - 1s 721us/step - loss: 0.1802 - accuracy: 0.7388\n",
      "Epoch 20/50\n",
      "804/804 [==============================] - 1s 723us/step - loss: 0.1801 - accuracy: 0.7387\n",
      "Epoch 21/50\n",
      "804/804 [==============================] - 1s 721us/step - loss: 0.1801 - accuracy: 0.7382\n",
      "Epoch 22/50\n",
      "804/804 [==============================] - 1s 721us/step - loss: 0.1798 - accuracy: 0.7385\n",
      "Epoch 23/50\n",
      "804/804 [==============================] - 1s 718us/step - loss: 0.1799 - accuracy: 0.7388\n",
      "Epoch 24/50\n",
      "804/804 [==============================] - 1s 725us/step - loss: 0.1796 - accuracy: 0.7399\n",
      "Epoch 25/50\n",
      "804/804 [==============================] - 1s 722us/step - loss: 0.1796 - accuracy: 0.7385\n",
      "Epoch 26/50\n",
      "804/804 [==============================] - 1s 725us/step - loss: 0.1795 - accuracy: 0.7394\n",
      "Epoch 27/50\n",
      "804/804 [==============================] - 1s 737us/step - loss: 0.1794 - accuracy: 0.7397\n",
      "Epoch 28/50\n",
      "804/804 [==============================] - 1s 720us/step - loss: 0.1794 - accuracy: 0.7391\n",
      "Epoch 29/50\n",
      "804/804 [==============================] - 1s 722us/step - loss: 0.1794 - accuracy: 0.7400\n",
      "Epoch 30/50\n",
      "804/804 [==============================] - 1s 726us/step - loss: 0.1792 - accuracy: 0.7403\n",
      "Epoch 31/50\n",
      "804/804 [==============================] - 1s 721us/step - loss: 0.1793 - accuracy: 0.7401\n",
      "Epoch 32/50\n",
      "804/804 [==============================] - 1s 719us/step - loss: 0.1791 - accuracy: 0.7390\n",
      "Epoch 33/50\n",
      "804/804 [==============================] - 1s 723us/step - loss: 0.1790 - accuracy: 0.7404\n",
      "Epoch 34/50\n",
      "804/804 [==============================] - 1s 732us/step - loss: 0.1791 - accuracy: 0.7398\n",
      "Epoch 35/50\n",
      "804/804 [==============================] - 1s 722us/step - loss: 0.1791 - accuracy: 0.7404\n",
      "Epoch 36/50\n",
      "804/804 [==============================] - 1s 724us/step - loss: 0.1788 - accuracy: 0.7404\n",
      "Epoch 37/50\n",
      "804/804 [==============================] - 1s 724us/step - loss: 0.1790 - accuracy: 0.7407\n",
      "Epoch 38/50\n",
      "804/804 [==============================] - 1s 725us/step - loss: 0.1789 - accuracy: 0.7395\n",
      "Epoch 39/50\n",
      "804/804 [==============================] - 1s 725us/step - loss: 0.1786 - accuracy: 0.7413\n",
      "Epoch 40/50\n",
      "804/804 [==============================] - 1s 724us/step - loss: 0.1787 - accuracy: 0.7406\n",
      "Epoch 41/50\n",
      "804/804 [==============================] - 1s 721us/step - loss: 0.1787 - accuracy: 0.7413\n",
      "Epoch 42/50\n",
      "804/804 [==============================] - 1s 717us/step - loss: 0.1786 - accuracy: 0.7414\n",
      "Epoch 43/50\n",
      "804/804 [==============================] - 1s 720us/step - loss: 0.1786 - accuracy: 0.7410\n",
      "Epoch 44/50\n",
      "804/804 [==============================] - 1s 727us/step - loss: 0.1785 - accuracy: 0.7412\n",
      "Epoch 45/50\n",
      "804/804 [==============================] - 1s 723us/step - loss: 0.1784 - accuracy: 0.7402\n",
      "Epoch 46/50\n",
      "804/804 [==============================] - 1s 722us/step - loss: 0.1786 - accuracy: 0.7407\n",
      "Epoch 47/50\n",
      "804/804 [==============================] - 1s 722us/step - loss: 0.1784 - accuracy: 0.7408\n",
      "Epoch 48/50\n",
      "804/804 [==============================] - 1s 723us/step - loss: 0.1785 - accuracy: 0.7416\n",
      "Epoch 49/50\n",
      "804/804 [==============================] - 1s 727us/step - loss: 0.1785 - accuracy: 0.7417\n",
      "Epoch 50/50\n",
      "804/804 [==============================] - 1s 723us/step - loss: 0.1784 - accuracy: 0.7415\n"
     ]
    }
   ],
   "source": [
    "# Fit the model using 50 epochs and the training data\n",
    "fit_model_A1 = nn_A1.fit(X_train_scaled,y_train,epochs=50)"
   ]
  },
  {
   "cell_type": "markdown",
   "metadata": {},
   "source": [
    "#### Alternative Model 2"
   ]
  },
  {
   "cell_type": "code",
   "execution_count": 36,
   "metadata": {},
   "outputs": [
    {
     "data": {
      "text/plain": [
       "116"
      ]
     },
     "execution_count": 36,
     "metadata": {},
     "output_type": "execute_result"
    }
   ],
   "source": [
    "# Define the the number of inputs (features) to the model\n",
    "number_input_features = len(X_train.iloc[0])\n",
    "\n",
    "# Review the number of features\n",
    "number_input_features"
   ]
  },
  {
   "cell_type": "code",
   "execution_count": 37,
   "metadata": {},
   "outputs": [],
   "source": [
    "# Define the number of neurons in the output layer\n",
    "number_output_neurons_A2 = 1"
   ]
  },
  {
   "cell_type": "code",
   "execution_count": 38,
   "metadata": {},
   "outputs": [
    {
     "data": {
      "text/plain": [
       "106"
      ]
     },
     "execution_count": 38,
     "metadata": {},
     "output_type": "execute_result"
    }
   ],
   "source": [
    "# Define the number of hidden nodes for the first hidden layer\n",
    "hidden_nodes_layer1_A2 = len(X_train.iloc[0])-10\n",
    "\n",
    "# Review the number of hidden nodes in the first layer\n",
    "hidden_nodes_layer1_A2"
   ]
  },
  {
   "cell_type": "code",
   "execution_count": 39,
   "metadata": {},
   "outputs": [
    {
     "data": {
      "text/plain": [
       "19"
      ]
     },
     "execution_count": 39,
     "metadata": {},
     "output_type": "execute_result"
    }
   ],
   "source": [
    "hidden_nodes_layer2_A2 = len(X_train.iloc[0])//6\n",
    "hidden_nodes_layer2_A2"
   ]
  },
  {
   "cell_type": "code",
   "execution_count": 40,
   "metadata": {},
   "outputs": [
    {
     "data": {
      "text/plain": [
       "5"
      ]
     },
     "execution_count": 40,
     "metadata": {},
     "output_type": "execute_result"
    }
   ],
   "source": [
    "hidden_nodes_layer3_A2 = 5\n",
    "hidden_nodes_layer3_A2 "
   ]
  },
  {
   "cell_type": "code",
   "execution_count": 41,
   "metadata": {},
   "outputs": [],
   "source": [
    "# Create the Sequential model instance\n",
    "nn_A2 =Sequential()"
   ]
  },
  {
   "cell_type": "code",
   "execution_count": 42,
   "metadata": {},
   "outputs": [],
   "source": [
    "# First hidden layer\n",
    "nn_A2.add(Dense(units=hidden_nodes_layer1_A2,input_dim=number_input_features, activation=\"relu\"))\n",
    "\n",
    "# Second hidden layer\n",
    "nn_A2.add(Dense(units=hidden_nodes_layer2_A2, activation=\"relu\"))\n",
    "\n",
    "# Third hidden layer\n",
    "nn_A2.add(Dense(units=hidden_nodes_layer3_A2, activation=\"relu\"))\n",
    "\n",
    "# Output layer\n",
    "# First hidden layer\n",
    "nn_A2.add(Dense(units=number_output_neurons_A2, activation=\"sigmoid\"))\n",
    "\n",
    "# Check the structure of the model\n",
    "nn_A2.history"
   ]
  },
  {
   "cell_type": "code",
   "execution_count": 43,
   "metadata": {},
   "outputs": [],
   "source": [
    "# Compile the model\n",
    "nn_A2.compile(loss=\"mean_squared_error\", optimizer=\"adam\", metrics=[\"accuracy\"])"
   ]
  },
  {
   "cell_type": "code",
   "execution_count": 44,
   "metadata": {
    "collapsed": true,
    "jupyter": {
     "outputs_hidden": true
    },
    "tags": []
   },
   "outputs": [
    {
     "name": "stdout",
     "output_type": "stream",
     "text": [
      "Epoch 1/200\n",
      "804/804 [==============================] - 1s 812us/step - loss: 0.2115 - accuracy: 0.7095\n",
      "Epoch 2/200\n",
      "804/804 [==============================] - 1s 799us/step - loss: 0.1925 - accuracy: 0.7285\n",
      "Epoch 3/200\n",
      "804/804 [==============================] - 1s 798us/step - loss: 0.1880 - accuracy: 0.7313\n",
      "Epoch 4/200\n",
      "804/804 [==============================] - 1s 800us/step - loss: 0.1864 - accuracy: 0.7327\n",
      "Epoch 5/200\n",
      "804/804 [==============================] - 1s 799us/step - loss: 0.1855 - accuracy: 0.7330\n",
      "Epoch 6/200\n",
      "804/804 [==============================] - 1s 802us/step - loss: 0.1843 - accuracy: 0.7348\n",
      "Epoch 7/200\n",
      "804/804 [==============================] - 1s 842us/step - loss: 0.1842 - accuracy: 0.7336\n",
      "Epoch 8/200\n",
      "804/804 [==============================] - 1s 802us/step - loss: 0.1837 - accuracy: 0.7347\n",
      "Epoch 9/200\n",
      "804/804 [==============================] - 1s 801us/step - loss: 0.1833 - accuracy: 0.7346\n",
      "Epoch 10/200\n",
      "804/804 [==============================] - 1s 803us/step - loss: 0.1831 - accuracy: 0.7347\n",
      "Epoch 11/200\n",
      "804/804 [==============================] - 1s 806us/step - loss: 0.1829 - accuracy: 0.7354\n",
      "Epoch 12/200\n",
      "804/804 [==============================] - 1s 799us/step - loss: 0.1826 - accuracy: 0.7366\n",
      "Epoch 13/200\n",
      "804/804 [==============================] - 1s 802us/step - loss: 0.1823 - accuracy: 0.7338\n",
      "Epoch 14/200\n",
      "804/804 [==============================] - 1s 802us/step - loss: 0.1821 - accuracy: 0.7369\n",
      "Epoch 15/200\n",
      "804/804 [==============================] - 1s 807us/step - loss: 0.1819 - accuracy: 0.7362\n",
      "Epoch 16/200\n",
      "804/804 [==============================] - 1s 841us/step - loss: 0.1817 - accuracy: 0.7362\n",
      "Epoch 17/200\n",
      "804/804 [==============================] - 1s 807us/step - loss: 0.1817 - accuracy: 0.7352\n",
      "Epoch 18/200\n",
      "804/804 [==============================] - 1s 807us/step - loss: 0.1815 - accuracy: 0.7366\n",
      "Epoch 19/200\n",
      "804/804 [==============================] - 1s 803us/step - loss: 0.1812 - accuracy: 0.7369\n",
      "Epoch 20/200\n",
      "804/804 [==============================] - 1s 804us/step - loss: 0.1813 - accuracy: 0.7363\n",
      "Epoch 21/200\n",
      "804/804 [==============================] - 1s 810us/step - loss: 0.1811 - accuracy: 0.7371\n",
      "Epoch 22/200\n",
      "804/804 [==============================] - 1s 805us/step - loss: 0.1809 - accuracy: 0.7373\n",
      "Epoch 23/200\n",
      "804/804 [==============================] - 1s 808us/step - loss: 0.1810 - accuracy: 0.7374\n",
      "Epoch 24/200\n",
      "804/804 [==============================] - 1s 811us/step - loss: 0.1811 - accuracy: 0.7377\n",
      "Epoch 25/200\n",
      "804/804 [==============================] - 1s 815us/step - loss: 0.1808 - accuracy: 0.7372\n",
      "Epoch 26/200\n",
      "804/804 [==============================] - 1s 804us/step - loss: 0.1806 - accuracy: 0.7384\n",
      "Epoch 27/200\n",
      "804/804 [==============================] - 1s 811us/step - loss: 0.1806 - accuracy: 0.7372\n",
      "Epoch 28/200\n",
      "804/804 [==============================] - 1s 807us/step - loss: 0.1807 - accuracy: 0.7362\n",
      "Epoch 29/200\n",
      "804/804 [==============================] - 1s 806us/step - loss: 0.1804 - accuracy: 0.7378\n",
      "Epoch 30/200\n",
      "804/804 [==============================] - 1s 808us/step - loss: 0.1806 - accuracy: 0.7378\n",
      "Epoch 31/200\n",
      "804/804 [==============================] - 1s 812us/step - loss: 0.1803 - accuracy: 0.7379\n",
      "Epoch 32/200\n",
      "804/804 [==============================] - 1s 823us/step - loss: 0.1804 - accuracy: 0.7372\n",
      "Epoch 33/200\n",
      "804/804 [==============================] - 1s 810us/step - loss: 0.1802 - accuracy: 0.7377\n",
      "Epoch 34/200\n",
      "804/804 [==============================] - 1s 809us/step - loss: 0.1803 - accuracy: 0.7369\n",
      "Epoch 35/200\n",
      "804/804 [==============================] - 1s 810us/step - loss: 0.1803 - accuracy: 0.7370\n",
      "Epoch 36/200\n",
      "804/804 [==============================] - 1s 815us/step - loss: 0.1800 - accuracy: 0.7389\n",
      "Epoch 37/200\n",
      "804/804 [==============================] - 1s 812us/step - loss: 0.1801 - accuracy: 0.7386\n",
      "Epoch 38/200\n",
      "804/804 [==============================] - 1s 816us/step - loss: 0.1801 - accuracy: 0.7388\n",
      "Epoch 39/200\n",
      "804/804 [==============================] - 1s 818us/step - loss: 0.1800 - accuracy: 0.7379\n",
      "Epoch 40/200\n",
      "804/804 [==============================] - 1s 814us/step - loss: 0.1796 - accuracy: 0.7390\n",
      "Epoch 41/200\n",
      "804/804 [==============================] - 1s 812us/step - loss: 0.1798 - accuracy: 0.7395\n",
      "Epoch 42/200\n",
      "804/804 [==============================] - 1s 813us/step - loss: 0.1799 - accuracy: 0.7384\n",
      "Epoch 43/200\n",
      "804/804 [==============================] - 1s 812us/step - loss: 0.1797 - accuracy: 0.7393\n",
      "Epoch 44/200\n",
      "804/804 [==============================] - 1s 813us/step - loss: 0.1797 - accuracy: 0.7390\n",
      "Epoch 45/200\n",
      "804/804 [==============================] - 1s 806us/step - loss: 0.1796 - accuracy: 0.7385\n",
      "Epoch 46/200\n",
      "804/804 [==============================] - 1s 820us/step - loss: 0.1796 - accuracy: 0.7404\n",
      "Epoch 47/200\n",
      "804/804 [==============================] - 1s 828us/step - loss: 0.1797 - accuracy: 0.7383\n",
      "Epoch 48/200\n",
      "804/804 [==============================] - 1s 825us/step - loss: 0.1796 - accuracy: 0.7393\n",
      "Epoch 49/200\n",
      "804/804 [==============================] - 1s 821us/step - loss: 0.1796 - accuracy: 0.7406\n",
      "Epoch 50/200\n",
      "804/804 [==============================] - 1s 818us/step - loss: 0.1795 - accuracy: 0.7407\n",
      "Epoch 51/200\n",
      "804/804 [==============================] - 1s 818us/step - loss: 0.1796 - accuracy: 0.7399\n",
      "Epoch 52/200\n",
      "804/804 [==============================] - 1s 901us/step - loss: 0.1794 - accuracy: 0.7401\n",
      "Epoch 53/200\n",
      "804/804 [==============================] - 1s 838us/step - loss: 0.1794 - accuracy: 0.7399\n",
      "Epoch 54/200\n",
      "804/804 [==============================] - 1s 904us/step - loss: 0.1794 - accuracy: 0.7402\n",
      "Epoch 55/200\n",
      "804/804 [==============================] - 1s 1ms/step - loss: 0.1795 - accuracy: 0.7387\n",
      "Epoch 56/200\n",
      "804/804 [==============================] - 1s 1ms/step - loss: 0.1792 - accuracy: 0.7393\n",
      "Epoch 57/200\n",
      "804/804 [==============================] - 1s 1ms/step - loss: 0.1792 - accuracy: 0.7405\n",
      "Epoch 58/200\n",
      "804/804 [==============================] - 1s 1ms/step - loss: 0.1794 - accuracy: 0.7395\n",
      "Epoch 59/200\n",
      "804/804 [==============================] - 1s 1ms/step - loss: 0.1792 - accuracy: 0.7396\n",
      "Epoch 60/200\n",
      "804/804 [==============================] - 1s 1ms/step - loss: 0.1792 - accuracy: 0.7407\n",
      "Epoch 61/200\n",
      "804/804 [==============================] - 1s 1ms/step - loss: 0.1791 - accuracy: 0.7410\n",
      "Epoch 62/200\n",
      "804/804 [==============================] - 1s 1ms/step - loss: 0.1791 - accuracy: 0.7402\n",
      "Epoch 63/200\n",
      "804/804 [==============================] - 1s 1ms/step - loss: 0.1792 - accuracy: 0.7393\n",
      "Epoch 64/200\n",
      "804/804 [==============================] - 1s 1ms/step - loss: 0.1791 - accuracy: 0.7399\n",
      "Epoch 65/200\n",
      "804/804 [==============================] - 1s 830us/step - loss: 0.1792 - accuracy: 0.7402\n",
      "Epoch 66/200\n",
      "804/804 [==============================] - 1s 862us/step - loss: 0.1789 - accuracy: 0.7399\n",
      "Epoch 67/200\n",
      "804/804 [==============================] - 1s 848us/step - loss: 0.1790 - accuracy: 0.7404\n",
      "Epoch 68/200\n",
      "804/804 [==============================] - 1s 848us/step - loss: 0.1790 - accuracy: 0.7402\n",
      "Epoch 69/200\n",
      "804/804 [==============================] - 1s 830us/step - loss: 0.1789 - accuracy: 0.7406\n",
      "Epoch 70/200\n",
      "804/804 [==============================] - 1s 822us/step - loss: 0.1789 - accuracy: 0.7401\n",
      "Epoch 71/200\n",
      "804/804 [==============================] - 1s 859us/step - loss: 0.1788 - accuracy: 0.7403\n",
      "Epoch 72/200\n",
      "804/804 [==============================] - 1s 837us/step - loss: 0.1789 - accuracy: 0.7395\n",
      "Epoch 73/200\n",
      "804/804 [==============================] - 1s 1ms/step - loss: 0.1790 - accuracy: 0.7386\n",
      "Epoch 74/200\n",
      "804/804 [==============================] - 1s 893us/step - loss: 0.1789 - accuracy: 0.7406\n",
      "Epoch 75/200\n",
      "804/804 [==============================] - 1s 1ms/step - loss: 0.1787 - accuracy: 0.7396\n",
      "Epoch 76/200\n",
      "804/804 [==============================] - 1s 959us/step - loss: 0.1791 - accuracy: 0.7402\n",
      "Epoch 77/200\n",
      "804/804 [==============================] - 1s 826us/step - loss: 0.1788 - accuracy: 0.7394\n",
      "Epoch 78/200\n",
      "804/804 [==============================] - 1s 827us/step - loss: 0.1787 - accuracy: 0.7396\n",
      "Epoch 79/200\n",
      "804/804 [==============================] - 1s 823us/step - loss: 0.1788 - accuracy: 0.7406\n",
      "Epoch 80/200\n",
      "804/804 [==============================] - 1s 828us/step - loss: 0.1787 - accuracy: 0.7408\n",
      "Epoch 81/200\n",
      "804/804 [==============================] - 1s 901us/step - loss: 0.1787 - accuracy: 0.7399\n",
      "Epoch 82/200\n",
      "804/804 [==============================] - 1s 1ms/step - loss: 0.1787 - accuracy: 0.7411\n",
      "Epoch 83/200\n",
      "804/804 [==============================] - 1s 1ms/step - loss: 0.1786 - accuracy: 0.7411: 0s - loss:\n",
      "Epoch 84/200\n",
      "804/804 [==============================] - 1s 939us/step - loss: 0.1789 - accuracy: 0.7391\n",
      "Epoch 85/200\n",
      "804/804 [==============================] - 1s 996us/step - loss: 0.1787 - accuracy: 0.7401\n",
      "Epoch 86/200\n",
      "804/804 [==============================] - 1s 1ms/step - loss: 0.1786 - accuracy: 0.7399\n",
      "Epoch 87/200\n",
      "804/804 [==============================] - 1s 1ms/step - loss: 0.1786 - accuracy: 0.7408\n",
      "Epoch 88/200\n",
      "804/804 [==============================] - 1s 925us/step - loss: 0.1787 - accuracy: 0.7402\n",
      "Epoch 89/200\n",
      "804/804 [==============================] - 1s 1ms/step - loss: 0.1785 - accuracy: 0.7402\n",
      "Epoch 90/200\n",
      "804/804 [==============================] - 1s 1ms/step - loss: 0.1785 - accuracy: 0.7399\n",
      "Epoch 91/200\n",
      "804/804 [==============================] - 1s 1ms/step - loss: 0.1785 - accuracy: 0.7410\n",
      "Epoch 92/200\n",
      "804/804 [==============================] - 1s 1ms/step - loss: 0.1785 - accuracy: 0.7399\n",
      "Epoch 93/200\n",
      "804/804 [==============================] - 1s 845us/step - loss: 0.1786 - accuracy: 0.7409\n",
      "Epoch 94/200\n",
      "804/804 [==============================] - 1s 840us/step - loss: 0.1785 - accuracy: 0.74100s - loss: 0.1783 - accuracy: 0.74\n",
      "Epoch 95/200\n",
      "804/804 [==============================] - 1s 858us/step - loss: 0.1784 - accuracy: 0.7422\n",
      "Epoch 96/200\n",
      "804/804 [==============================] - 1s 875us/step - loss: 0.1786 - accuracy: 0.7402\n",
      "Epoch 97/200\n",
      "804/804 [==============================] - 1s 849us/step - loss: 0.1783 - accuracy: 0.7416\n",
      "Epoch 98/200\n",
      "804/804 [==============================] - 1s 879us/step - loss: 0.1785 - accuracy: 0.7406\n",
      "Epoch 99/200\n",
      "804/804 [==============================] - 1s 899us/step - loss: 0.1783 - accuracy: 0.7405\n",
      "Epoch 100/200\n",
      "804/804 [==============================] - 1s 910us/step - loss: 0.1787 - accuracy: 0.7419\n",
      "Epoch 101/200\n",
      "804/804 [==============================] - 1s 868us/step - loss: 0.1785 - accuracy: 0.7402\n",
      "Epoch 102/200\n",
      "804/804 [==============================] - 1s 851us/step - loss: 0.1784 - accuracy: 0.7413\n",
      "Epoch 103/200\n",
      "804/804 [==============================] - 1s 849us/step - loss: 0.1784 - accuracy: 0.7411\n",
      "Epoch 104/200\n",
      "804/804 [==============================] - 1s 848us/step - loss: 0.1786 - accuracy: 0.7416\n",
      "Epoch 105/200\n",
      "804/804 [==============================] - 1s 831us/step - loss: 0.1784 - accuracy: 0.7402\n",
      "Epoch 106/200\n",
      "804/804 [==============================] - 1s 846us/step - loss: 0.1784 - accuracy: 0.7414\n",
      "Epoch 107/200\n",
      "804/804 [==============================] - 1s 861us/step - loss: 0.1784 - accuracy: 0.7418\n",
      "Epoch 108/200\n",
      "804/804 [==============================] - 1s 838us/step - loss: 0.1784 - accuracy: 0.7404\n",
      "Epoch 109/200\n",
      "804/804 [==============================] - 1s 862us/step - loss: 0.1784 - accuracy: 0.7406\n",
      "Epoch 110/200\n",
      "804/804 [==============================] - 1s 856us/step - loss: 0.1785 - accuracy: 0.7412\n",
      "Epoch 111/200\n",
      "804/804 [==============================] - 1s 833us/step - loss: 0.1783 - accuracy: 0.7423\n",
      "Epoch 112/200\n",
      "804/804 [==============================] - 1s 834us/step - loss: 0.1783 - accuracy: 0.7416\n",
      "Epoch 113/200\n",
      "804/804 [==============================] - 1s 834us/step - loss: 0.1782 - accuracy: 0.7417\n",
      "Epoch 114/200\n",
      "804/804 [==============================] - 1s 858us/step - loss: 0.1783 - accuracy: 0.7418\n",
      "Epoch 115/200\n",
      "804/804 [==============================] - 1s 826us/step - loss: 0.1784 - accuracy: 0.7418\n",
      "Epoch 116/200\n",
      "804/804 [==============================] - 1s 832us/step - loss: 0.1783 - accuracy: 0.7406\n",
      "Epoch 117/200\n",
      "804/804 [==============================] - 1s 856us/step - loss: 0.1782 - accuracy: 0.7412\n",
      "Epoch 118/200\n",
      "804/804 [==============================] - 1s 833us/step - loss: 0.1783 - accuracy: 0.7409\n",
      "Epoch 119/200\n",
      "804/804 [==============================] - 1s 841us/step - loss: 0.1782 - accuracy: 0.7416\n",
      "Epoch 120/200\n",
      "804/804 [==============================] - 1s 835us/step - loss: 0.1781 - accuracy: 0.7424\n",
      "Epoch 121/200\n",
      "804/804 [==============================] - 1s 843us/step - loss: 0.1782 - accuracy: 0.7416\n",
      "Epoch 122/200\n",
      "804/804 [==============================] - 1s 833us/step - loss: 0.1782 - accuracy: 0.7417\n",
      "Epoch 123/200\n",
      "804/804 [==============================] - 1s 850us/step - loss: 0.1781 - accuracy: 0.7404\n",
      "Epoch 124/200\n",
      "804/804 [==============================] - 1s 847us/step - loss: 0.1783 - accuracy: 0.7412\n",
      "Epoch 125/200\n",
      "804/804 [==============================] - 1s 839us/step - loss: 0.1781 - accuracy: 0.7410\n",
      "Epoch 126/200\n",
      "804/804 [==============================] - 1s 847us/step - loss: 0.1780 - accuracy: 0.7407\n",
      "Epoch 127/200\n",
      "804/804 [==============================] - 1s 848us/step - loss: 0.1781 - accuracy: 0.7401\n",
      "Epoch 128/200\n",
      "804/804 [==============================] - 1s 840us/step - loss: 0.1780 - accuracy: 0.7410\n",
      "Epoch 129/200\n",
      "804/804 [==============================] - 1s 847us/step - loss: 0.1782 - accuracy: 0.7414\n",
      "Epoch 130/200\n",
      "804/804 [==============================] - 1s 837us/step - loss: 0.1783 - accuracy: 0.7413\n",
      "Epoch 131/200\n",
      "804/804 [==============================] - 1s 847us/step - loss: 0.1782 - accuracy: 0.7419\n",
      "Epoch 132/200\n",
      "804/804 [==============================] - 1s 837us/step - loss: 0.1780 - accuracy: 0.7421\n",
      "Epoch 133/200\n",
      "804/804 [==============================] - 1s 840us/step - loss: 0.1780 - accuracy: 0.7410\n",
      "Epoch 134/200\n",
      "804/804 [==============================] - 1s 864us/step - loss: 0.1781 - accuracy: 0.7404\n",
      "Epoch 135/200\n",
      "804/804 [==============================] - 1s 851us/step - loss: 0.1780 - accuracy: 0.7409\n",
      "Epoch 136/200\n",
      "804/804 [==============================] - 1s 852us/step - loss: 0.1780 - accuracy: 0.7423\n",
      "Epoch 137/200\n",
      "804/804 [==============================] - 1s 848us/step - loss: 0.1780 - accuracy: 0.7417\n",
      "Epoch 138/200\n",
      "804/804 [==============================] - 1s 850us/step - loss: 0.1780 - accuracy: 0.7420\n",
      "Epoch 139/200\n",
      "804/804 [==============================] - 1s 845us/step - loss: 0.1781 - accuracy: 0.7416\n",
      "Epoch 140/200\n",
      "804/804 [==============================] - 1s 849us/step - loss: 0.1779 - accuracy: 0.7408\n",
      "Epoch 141/200\n",
      "804/804 [==============================] - 1s 846us/step - loss: 0.1780 - accuracy: 0.7408\n",
      "Epoch 142/200\n",
      "804/804 [==============================] - 1s 848us/step - loss: 0.1779 - accuracy: 0.7414\n",
      "Epoch 143/200\n",
      "804/804 [==============================] - 1s 905us/step - loss: 0.1780 - accuracy: 0.7415\n",
      "Epoch 144/200\n",
      "804/804 [==============================] - 1s 898us/step - loss: 0.1780 - accuracy: 0.7416\n",
      "Epoch 145/200\n",
      "804/804 [==============================] - 1s 1ms/step - loss: 0.1779 - accuracy: 0.7408\n",
      "Epoch 146/200\n",
      "804/804 [==============================] - 1s 1ms/step - loss: 0.1780 - accuracy: 0.7417\n",
      "Epoch 147/200\n",
      "804/804 [==============================] - 1s 964us/step - loss: 0.1780 - accuracy: 0.7407\n",
      "Epoch 148/200\n",
      "804/804 [==============================] - 1s 837us/step - loss: 0.1780 - accuracy: 0.7421\n",
      "Epoch 149/200\n",
      "804/804 [==============================] - 1s 946us/step - loss: 0.1778 - accuracy: 0.7415\n",
      "Epoch 150/200\n",
      "804/804 [==============================] - 1s 1ms/step - loss: 0.1779 - accuracy: 0.7418\n",
      "Epoch 151/200\n",
      "804/804 [==============================] - 1s 929us/step - loss: 0.1780 - accuracy: 0.7416\n",
      "Epoch 152/200\n",
      "804/804 [==============================] - 1s 906us/step - loss: 0.1778 - accuracy: 0.7422\n",
      "Epoch 153/200\n",
      "804/804 [==============================] - 1s 839us/step - loss: 0.1779 - accuracy: 0.7407\n",
      "Epoch 154/200\n",
      "804/804 [==============================] - 1s 851us/step - loss: 0.1780 - accuracy: 0.7407\n",
      "Epoch 155/200\n",
      "804/804 [==============================] - 1s 846us/step - loss: 0.1778 - accuracy: 0.7415\n",
      "Epoch 156/200\n",
      "804/804 [==============================] - 1s 833us/step - loss: 0.1780 - accuracy: 0.7418\n",
      "Epoch 157/200\n",
      "804/804 [==============================] - 1s 911us/step - loss: 0.1779 - accuracy: 0.7408\n",
      "Epoch 158/200\n",
      "804/804 [==============================] - 1s 871us/step - loss: 0.1779 - accuracy: 0.7412\n",
      "Epoch 159/200\n",
      "804/804 [==============================] - 1s 848us/step - loss: 0.1778 - accuracy: 0.7421\n",
      "Epoch 160/200\n",
      "804/804 [==============================] - 1s 1ms/step - loss: 0.1778 - accuracy: 0.7415\n",
      "Epoch 161/200\n",
      "804/804 [==============================] - 1s 979us/step - loss: 0.1778 - accuracy: 0.7430\n",
      "Epoch 162/200\n",
      "804/804 [==============================] - 1s 1ms/step - loss: 0.1779 - accuracy: 0.7410\n",
      "Epoch 163/200\n",
      "804/804 [==============================] - 1s 866us/step - loss: 0.1777 - accuracy: 0.7415\n",
      "Epoch 164/200\n",
      "804/804 [==============================] - 1s 867us/step - loss: 0.1779 - accuracy: 0.7424\n",
      "Epoch 165/200\n",
      "804/804 [==============================] - 1s 1ms/step - loss: 0.1778 - accuracy: 0.7423\n",
      "Epoch 166/200\n",
      "804/804 [==============================] - 1s 1ms/step - loss: 0.1778 - accuracy: 0.7423\n",
      "Epoch 167/200\n",
      "804/804 [==============================] - 1s 848us/step - loss: 0.1779 - accuracy: 0.7414\n",
      "Epoch 168/200\n",
      "804/804 [==============================] - 1s 895us/step - loss: 0.1779 - accuracy: 0.7421\n",
      "Epoch 169/200\n",
      "804/804 [==============================] - 1s 941us/step - loss: 0.1778 - accuracy: 0.7425\n",
      "Epoch 170/200\n",
      "804/804 [==============================] - 1s 838us/step - loss: 0.1778 - accuracy: 0.7419\n",
      "Epoch 171/200\n",
      "804/804 [==============================] - 1s 886us/step - loss: 0.1778 - accuracy: 0.7418\n",
      "Epoch 172/200\n",
      "804/804 [==============================] - 1s 957us/step - loss: 0.1780 - accuracy: 0.7420\n",
      "Epoch 173/200\n",
      "804/804 [==============================] - 1s 1ms/step - loss: 0.1780 - accuracy: 0.7414\n",
      "Epoch 174/200\n",
      "804/804 [==============================] - 1s 1ms/step - loss: 0.1779 - accuracy: 0.7419\n",
      "Epoch 175/200\n",
      "804/804 [==============================] - 1s 844us/step - loss: 0.1777 - accuracy: 0.7411\n",
      "Epoch 176/200\n",
      "804/804 [==============================] - 1s 898us/step - loss: 0.1778 - accuracy: 0.7412\n",
      "Epoch 177/200\n",
      "804/804 [==============================] - 1s 1ms/step - loss: 0.1778 - accuracy: 0.7420\n",
      "Epoch 178/200\n",
      "804/804 [==============================] - 1s 1ms/step - loss: 0.1777 - accuracy: 0.7406\n",
      "Epoch 179/200\n",
      "804/804 [==============================] - 1s 850us/step - loss: 0.1777 - accuracy: 0.7408\n",
      "Epoch 180/200\n",
      "804/804 [==============================] - 1s 832us/step - loss: 0.1779 - accuracy: 0.7415\n",
      "Epoch 181/200\n",
      "804/804 [==============================] - 1s 842us/step - loss: 0.1777 - accuracy: 0.7417\n",
      "Epoch 182/200\n",
      "804/804 [==============================] - 1s 836us/step - loss: 0.1777 - accuracy: 0.7415\n",
      "Epoch 183/200\n",
      "804/804 [==============================] - 1s 1ms/step - loss: 0.1778 - accuracy: 0.7418\n",
      "Epoch 184/200\n",
      "804/804 [==============================] - 1s 1ms/step - loss: 0.1778 - accuracy: 0.7424\n",
      "Epoch 185/200\n",
      "804/804 [==============================] - 1s 1ms/step - loss: 0.1776 - accuracy: 0.7427\n",
      "Epoch 186/200\n",
      "804/804 [==============================] - 1s 1ms/step - loss: 0.1777 - accuracy: 0.7420\n",
      "Epoch 187/200\n",
      "804/804 [==============================] - 1s 943us/step - loss: 0.1779 - accuracy: 0.7414\n",
      "Epoch 188/200\n",
      "804/804 [==============================] - 1s 830us/step - loss: 0.1777 - accuracy: 0.7406\n",
      "Epoch 189/200\n",
      "804/804 [==============================] - 1s 873us/step - loss: 0.1777 - accuracy: 0.7423\n",
      "Epoch 190/200\n",
      "804/804 [==============================] - 1s 830us/step - loss: 0.1777 - accuracy: 0.7422\n",
      "Epoch 191/200\n",
      "804/804 [==============================] - 1s 853us/step - loss: 0.1776 - accuracy: 0.7426\n",
      "Epoch 192/200\n",
      "804/804 [==============================] - 1s 930us/step - loss: 0.1777 - accuracy: 0.7418\n",
      "Epoch 193/200\n",
      "804/804 [==============================] - 1s 837us/step - loss: 0.1777 - accuracy: 0.7419\n",
      "Epoch 194/200\n",
      "804/804 [==============================] - 1s 833us/step - loss: 0.1777 - accuracy: 0.7409\n",
      "Epoch 195/200\n",
      "804/804 [==============================] - 1s 831us/step - loss: 0.1779 - accuracy: 0.7417\n",
      "Epoch 196/200\n",
      "804/804 [==============================] - 1s 847us/step - loss: 0.1778 - accuracy: 0.7425\n",
      "Epoch 197/200\n",
      "804/804 [==============================] - 1s 845us/step - loss: 0.1779 - accuracy: 0.7421\n",
      "Epoch 198/200\n",
      "804/804 [==============================] - 1s 1ms/step - loss: 0.1777 - accuracy: 0.7422\n",
      "Epoch 199/200\n",
      "804/804 [==============================] - 1s 873us/step - loss: 0.1777 - accuracy: 0.7416\n",
      "Epoch 200/200\n",
      "804/804 [==============================] - 1s 896us/step - loss: 0.1777 - accuracy: 0.7421\n"
     ]
    }
   ],
   "source": [
    "# Fit the model\n",
    "fit_model_A2 = nn_A2.fit(X_train_scaled,y_train,epochs=200\n",
    "                        )"
   ]
  },
  {
   "cell_type": "markdown",
   "metadata": {},
   "source": [
    "### Note: \n",
    "Even though we increased the number of epochs in this model, it does't improve throughout the ipochs. Accuracy is almost the same as in the first model. However, loss became less than in previous models. "
   ]
  },
  {
   "cell_type": "markdown",
   "metadata": {},
   "source": [
    "#### Alternative Model 3"
   ]
  },
  {
   "cell_type": "code",
   "execution_count": 73,
   "metadata": {},
   "outputs": [
    {
     "data": {
      "text/plain": [
       "116"
      ]
     },
     "execution_count": 73,
     "metadata": {},
     "output_type": "execute_result"
    }
   ],
   "source": [
    "# Define the the number of inputs (features) to the model\n",
    "number_input_features = len(X_train.iloc[0])\n",
    "\n",
    "# Review the number of features\n",
    "number_input_features"
   ]
  },
  {
   "cell_type": "code",
   "execution_count": 74,
   "metadata": {},
   "outputs": [],
   "source": [
    "# Define the number of neurons in the output layer\n",
    "number_output_neurons_A3 = 1"
   ]
  },
  {
   "cell_type": "code",
   "execution_count": 75,
   "metadata": {},
   "outputs": [
    {
     "data": {
      "text/plain": [
       "38"
      ]
     },
     "execution_count": 75,
     "metadata": {},
     "output_type": "execute_result"
    }
   ],
   "source": [
    "# Define the number of hidden nodes for the first hidden layer\n",
    "hidden_nodes_layer1_A3 = number_input_features//3\n",
    "\n",
    "# Review the number of hidden nodes in the first layer\n",
    "hidden_nodes_layer1_A3"
   ]
  },
  {
   "cell_type": "code",
   "execution_count": 76,
   "metadata": {},
   "outputs": [
    {
     "data": {
      "text/plain": [
       "33.0"
      ]
     },
     "execution_count": 76,
     "metadata": {},
     "output_type": "execute_result"
    }
   ],
   "source": [
    "# Define the number of hidden nodes for the first hidden layer\n",
    "hidden_nodes_layer2_A3 = number_input_features//3.5\n",
    "\n",
    "# Review the number of hidden nodes in the first layer\n",
    "hidden_nodes_layer2_A3"
   ]
  },
  {
   "cell_type": "code",
   "execution_count": 77,
   "metadata": {},
   "outputs": [
    {
     "data": {
      "text/plain": [
       "29"
      ]
     },
     "execution_count": 77,
     "metadata": {},
     "output_type": "execute_result"
    }
   ],
   "source": [
    "# Define the number of hidden nodes for the first hidden layer\n",
    "hidden_nodes_layer3_A3 = number_input_features//4\n",
    "\n",
    "# Review the number of hidden nodes in the first layer\n",
    "hidden_nodes_layer3_A3"
   ]
  },
  {
   "cell_type": "code",
   "execution_count": 78,
   "metadata": {},
   "outputs": [
    {
     "data": {
      "text/plain": [
       "5"
      ]
     },
     "execution_count": 78,
     "metadata": {},
     "output_type": "execute_result"
    }
   ],
   "source": [
    "# Define the number of hidden nodes for the first hidden layer\n",
    "hidden_nodes_layer4_A3 = 5\n",
    "\n",
    "# Review the number of hidden nodes in the first layer\n",
    "hidden_nodes_layer4_A3"
   ]
  },
  {
   "cell_type": "code",
   "execution_count": 79,
   "metadata": {},
   "outputs": [],
   "source": [
    "# Create the Sequential model instance\n",
    "nn_A3 =Sequential()"
   ]
  },
  {
   "cell_type": "code",
   "execution_count": 80,
   "metadata": {},
   "outputs": [
    {
     "name": "stdout",
     "output_type": "stream",
     "text": [
      "Model: \"sequential_5\"\n",
      "_________________________________________________________________\n",
      " Layer (type)                Output Shape              Param #   \n",
      "=================================================================\n",
      " dense_28 (Dense)            (None, 38)                4446      \n",
      "                                                                 \n",
      " dense_29 (Dense)            (None, 33)                1287      \n",
      "                                                                 \n",
      " dense_30 (Dense)            (None, 29)                986       \n",
      "                                                                 \n",
      " dense_31 (Dense)            (None, 5)                 150       \n",
      "                                                                 \n",
      " dense_32 (Dense)            (None, 1)                 6         \n",
      "                                                                 \n",
      "=================================================================\n",
      "Total params: 6,875\n",
      "Trainable params: 6,875\n",
      "Non-trainable params: 0\n",
      "_________________________________________________________________\n"
     ]
    }
   ],
   "source": [
    "# First hidden layer\n",
    "nn_A3.add(Dense(units=hidden_nodes_layer1_A3,input_dim=number_input_features, activation=\"relu\"))\n",
    "\n",
    "nn_A3.add(Dense(units=hidden_nodes_layer2_A3, activation=\"relu\"))\n",
    "\n",
    "\n",
    "nn_A3.add(Dense(units=hidden_nodes_layer3_A3, activation=\"relu\"))\n",
    "\n",
    "nn_A3.add(Dense(units=hidden_nodes_layer4_A3, activation=\"relu\"))\n",
    "\n",
    "\n",
    "# Output layer\n",
    "nn_A3.add(Dense(units=number_output_neurons_A3,activation=\"linear\"))\n",
    "\n",
    "\n",
    "\n",
    "# Check the structure of the model\n",
    "nn_A3.summary()"
   ]
  },
  {
   "cell_type": "code",
   "execution_count": 81,
   "metadata": {},
   "outputs": [],
   "source": [
    "# Compile the Sequential model\n",
    "nn_A3.compile(loss=\"mean_squared_error\", optimizer=\"SGD\", metrics=[\"accuracy\"])\n"
   ]
  },
  {
   "cell_type": "code",
   "execution_count": 82,
   "metadata": {
    "collapsed": true,
    "jupyter": {
     "outputs_hidden": true
    },
    "tags": []
   },
   "outputs": [
    {
     "name": "stdout",
     "output_type": "stream",
     "text": [
      "Epoch 1/50\n",
      "804/804 [==============================] - 1s 682us/step - loss: 0.2567 - accuracy: 0.5213\n",
      "Epoch 2/50\n",
      "804/804 [==============================] - 1s 672us/step - loss: 0.2425 - accuracy: 0.5489\n",
      "Epoch 3/50\n",
      "804/804 [==============================] - 1s 666us/step - loss: 0.2357 - accuracy: 0.6143\n",
      "Epoch 4/50\n",
      "804/804 [==============================] - 1s 671us/step - loss: 0.2218 - accuracy: 0.6709\n",
      "Epoch 5/50\n",
      "804/804 [==============================] - 1s 674us/step - loss: 0.2041 - accuracy: 0.6990\n",
      "Epoch 6/50\n",
      "804/804 [==============================] - 1s 673us/step - loss: 0.1941 - accuracy: 0.7214\n",
      "Epoch 7/50\n",
      "804/804 [==============================] - 1s 687us/step - loss: 0.1907 - accuracy: 0.7255\n",
      "Epoch 8/50\n",
      "804/804 [==============================] - 1s 679us/step - loss: 0.1897 - accuracy: 0.7267\n",
      "Epoch 9/50\n",
      "804/804 [==============================] - 1s 679us/step - loss: 0.1891 - accuracy: 0.7273\n",
      "Epoch 10/50\n",
      "804/804 [==============================] - 1s 683us/step - loss: 0.1873 - accuracy: 0.7294\n",
      "Epoch 11/50\n",
      "804/804 [==============================] - 1s 684us/step - loss: 0.1865 - accuracy: 0.7294\n",
      "Epoch 12/50\n",
      "804/804 [==============================] - 1s 684us/step - loss: 0.1860 - accuracy: 0.7296\n",
      "Epoch 13/50\n",
      "804/804 [==============================] - 1s 679us/step - loss: 0.1854 - accuracy: 0.7315\n",
      "Epoch 14/50\n",
      "804/804 [==============================] - 1s 683us/step - loss: 0.1853 - accuracy: 0.7317\n",
      "Epoch 15/50\n",
      "804/804 [==============================] - 1s 684us/step - loss: 0.1849 - accuracy: 0.7321\n",
      "Epoch 16/50\n",
      "804/804 [==============================] - 1s 686us/step - loss: 0.1846 - accuracy: 0.7332\n",
      "Epoch 17/50\n",
      "804/804 [==============================] - 1s 682us/step - loss: 0.1842 - accuracy: 0.7340\n",
      "Epoch 18/50\n",
      "804/804 [==============================] - 1s 690us/step - loss: 0.1841 - accuracy: 0.7333\n",
      "Epoch 19/50\n",
      "804/804 [==============================] - 1s 692us/step - loss: 0.1837 - accuracy: 0.7333\n",
      "Epoch 20/50\n",
      "804/804 [==============================] - 1s 705us/step - loss: 0.1836 - accuracy: 0.7347\n",
      "Epoch 21/50\n",
      "804/804 [==============================] - 1s 695us/step - loss: 0.1833 - accuracy: 0.7337\n",
      "Epoch 22/50\n",
      "804/804 [==============================] - 1s 693us/step - loss: 0.1831 - accuracy: 0.7334\n",
      "Epoch 23/50\n",
      "804/804 [==============================] - 1s 856us/step - loss: 0.1831 - accuracy: 0.7338\n",
      "Epoch 24/50\n",
      "804/804 [==============================] - 1s 909us/step - loss: 0.1829 - accuracy: 0.7350\n",
      "Epoch 25/50\n",
      "804/804 [==============================] - 1s 984us/step - loss: 0.1827 - accuracy: 0.7345\n",
      "Epoch 26/50\n",
      "804/804 [==============================] - 1s 721us/step - loss: 0.1827 - accuracy: 0.7353\n",
      "Epoch 27/50\n",
      "804/804 [==============================] - 1s 826us/step - loss: 0.1826 - accuracy: 0.7346\n",
      "Epoch 28/50\n",
      "804/804 [==============================] - 1s 893us/step - loss: 0.1825 - accuracy: 0.7355\n",
      "Epoch 29/50\n",
      "804/804 [==============================] - 1s 704us/step - loss: 0.1824 - accuracy: 0.7358\n",
      "Epoch 30/50\n",
      "804/804 [==============================] - 1s 713us/step - loss: 0.1822 - accuracy: 0.7360\n",
      "Epoch 31/50\n",
      "804/804 [==============================] - 1s 700us/step - loss: 0.1822 - accuracy: 0.7357\n",
      "Epoch 32/50\n",
      "804/804 [==============================] - 1s 702us/step - loss: 0.1822 - accuracy: 0.7341\n",
      "Epoch 33/50\n",
      "804/804 [==============================] - 1s 697us/step - loss: 0.1820 - accuracy: 0.7366\n",
      "Epoch 34/50\n",
      "804/804 [==============================] - 1s 708us/step - loss: 0.1820 - accuracy: 0.7359\n",
      "Epoch 35/50\n",
      "804/804 [==============================] - 1s 708us/step - loss: 0.1820 - accuracy: 0.7371\n",
      "Epoch 36/50\n",
      "804/804 [==============================] - 1s 720us/step - loss: 0.1819 - accuracy: 0.7357\n",
      "Epoch 37/50\n",
      "804/804 [==============================] - 1s 716us/step - loss: 0.1819 - accuracy: 0.7355\n",
      "Epoch 38/50\n",
      "804/804 [==============================] - 1s 739us/step - loss: 0.1819 - accuracy: 0.7365\n",
      "Epoch 39/50\n",
      "804/804 [==============================] - 1s 723us/step - loss: 0.1819 - accuracy: 0.7357\n",
      "Epoch 40/50\n",
      "804/804 [==============================] - 1s 733us/step - loss: 0.1817 - accuracy: 0.7373\n",
      "Epoch 41/50\n",
      "804/804 [==============================] - 1s 716us/step - loss: 0.1818 - accuracy: 0.7374\n",
      "Epoch 42/50\n",
      "804/804 [==============================] - 1s 755us/step - loss: 0.1818 - accuracy: 0.7369\n",
      "Epoch 43/50\n",
      "804/804 [==============================] - 1s 738us/step - loss: 0.1816 - accuracy: 0.7374\n",
      "Epoch 44/50\n",
      "804/804 [==============================] - 1s 738us/step - loss: 0.1818 - accuracy: 0.7365\n",
      "Epoch 45/50\n",
      "804/804 [==============================] - 1s 750us/step - loss: 0.1815 - accuracy: 0.7371\n",
      "Epoch 46/50\n",
      "804/804 [==============================] - 1s 855us/step - loss: 0.1814 - accuracy: 0.7370\n",
      "Epoch 47/50\n",
      "804/804 [==============================] - 1s 932us/step - loss: 0.1813 - accuracy: 0.7376\n",
      "Epoch 48/50\n",
      "804/804 [==============================] - 1s 878us/step - loss: 0.1814 - accuracy: 0.7371\n",
      "Epoch 49/50\n",
      "804/804 [==============================] - 1s 671us/step - loss: 0.1813 - accuracy: 0.7373\n",
      "Epoch 50/50\n",
      "804/804 [==============================] - 1s 701us/step - loss: 0.1814 - accuracy: 0.7380\n"
     ]
    }
   ],
   "source": [
    "# Fit the model using 50 epochs and the training data\n",
    "fit_model_A3 = nn_A3.fit(X_train_scaled,y_train,epochs=50)"
   ]
  },
  {
   "cell_type": "markdown",
   "metadata": {
    "id": "JkA48Z4hURsL"
   },
   "source": [
    "### Step 2: After finishing your models, display the accuracy scores achieved by each model, and compare the results."
   ]
  },
  {
   "cell_type": "code",
   "execution_count": 68,
   "metadata": {
    "id": "RXhF6K8SURsL"
   },
   "outputs": [
    {
     "name": "stdout",
     "output_type": "stream",
     "text": [
      "Original Model Results\n",
      "268/268 - 0s - loss: 0.5576 - accuracy: 0.7287 - 160ms/epoch - 596us/step\n",
      "Loss: 0.5576319694519043, Accuracy: 0.7287463545799255\n"
     ]
    }
   ],
   "source": [
    "print(\"Original Model Results\")\n",
    "\n",
    "# Evaluate the model loss and accuracy metrics using the evaluate method and the test data\n",
    "model_loss, model_accuracy = nn.evaluate(X_test_scaled, y_test, verbose=2)\n",
    "\n",
    "# Display the model loss and accuracy results\n",
    "print(f\"Loss: {model_loss}, Accuracy: {model_accuracy}\")\n",
    "Loss: 0.5576319694519043, Accuracy: 0.7287463545799255"
   ]
  },
  {
   "cell_type": "code",
   "execution_count": 69,
   "metadata": {
    "id": "W52oclvkURsL"
   },
   "outputs": [
    {
     "name": "stdout",
     "output_type": "stream",
     "text": [
      "Alternative Model 1 Results\n",
      "268/268 - 0s - loss: 0.1844 - accuracy: 0.7300 - 215ms/epoch - 804us/step\n",
      "Loss: 0.18436409533023834, Accuracy: 0.7300291657447815\n"
     ]
    }
   ],
   "source": [
    "print(\"Alternative Model 1 Results\")\n",
    "\n",
    "# Evaluate the model loss and accuracy metrics using the evaluate method and the test data\n",
    "model_loss, model_accuracy =nn_A1.evaluate(X_test_scaled, y_test, verbose=2)\n",
    "\n",
    "# Display the model loss and accuracy results\n",
    "print(f\"Loss: {model_loss}, Accuracy: {model_accuracy}\")"
   ]
  },
  {
   "cell_type": "code",
   "execution_count": 70,
   "metadata": {
    "id": "4yPtU8_nURsL"
   },
   "outputs": [
    {
     "name": "stdout",
     "output_type": "stream",
     "text": [
      "Alternative Model 2 Results\n",
      "268/268 - 0s - loss: 0.1854 - accuracy: 0.7315 - 215ms/epoch - 803us/step\n",
      "Loss: 0.18538065254688263, Accuracy: 0.7315452098846436\n"
     ]
    }
   ],
   "source": [
    "print(\"Alternative Model 2 Results\")\n",
    "\n",
    "# Evaluate the model loss and accuracy metrics using the evaluate method and the test data\n",
    "model_loss, model_accuracy = nn_A2.evaluate(X_test_scaled, y_test, verbose=2)\n",
    "\n",
    "# Display the model loss and accuracy results\n",
    "print(f\"Loss: {model_loss}, Accuracy: {model_accuracy}\")"
   ]
  },
  {
   "cell_type": "code",
   "execution_count": 83,
   "metadata": {
    "id": "4yPtU8_nURsL"
   },
   "outputs": [
    {
     "name": "stdout",
     "output_type": "stream",
     "text": [
      "Alternative Model 3 Results\n",
      "268/268 - 0s - loss: 0.1873 - accuracy: 0.7292 - 232ms/epoch - 867us/step\n",
      "Loss: 0.1873008906841278, Accuracy: 0.7292128205299377\n"
     ]
    }
   ],
   "source": [
    "print(\"Alternative Model 3 Results\")\n",
    "\n",
    "# Evaluate the model loss and accuracy metrics using the evaluate method and the test data\n",
    "model_loss, model_accuracy = nn_A3.evaluate(X_test_scaled, y_test, verbose=2)\n",
    "\n",
    "# Display the model loss and accuracy results\n",
    "print(f\"Loss: {model_loss}, Accuracy: {model_accuracy}\")"
   ]
  },
  {
   "cell_type": "markdown",
   "metadata": {},
   "source": [
    "### Step 3: Save each of your alternative models as an HDF5 file.\n"
   ]
  },
  {
   "cell_type": "code",
   "execution_count": 95,
   "metadata": {},
   "outputs": [],
   "source": [
    "# Set the file path for the first alternative model\n",
    "file_path = \"NN_models/succecful_applicant_finder_model1.h5\"\n",
    "\n",
    "\n",
    "# Export your model to a HDF5 file\n",
    "nn_A1.save(file_path)\n",
    "\n"
   ]
  },
  {
   "cell_type": "code",
   "execution_count": 96,
   "metadata": {},
   "outputs": [],
   "source": [
    "# Set the file path for the first alternative model\n",
    "file_path = \"NN_models/succecful_applicant_finder_model2.h5\"\n",
    "\n",
    "\n",
    "# Export your model to a HDF5 file\n",
    "nn_A2.save(file_path)\n"
   ]
  },
  {
   "cell_type": "code",
   "execution_count": 97,
   "metadata": {},
   "outputs": [],
   "source": [
    "# Set the file path for the second alternative model\n",
    "file_path = \"NN_models/succecful_applicant_finder_model3.h5\"\n",
    "\n",
    "# Export your model to a HDF5 file\n",
    "nn_A3.save(file_path)\n"
   ]
  },
  {
   "cell_type": "code",
   "execution_count": null,
   "metadata": {},
   "outputs": [],
   "source": []
  }
 ],
 "metadata": {
  "kernelspec": {
   "display_name": "Python (dev)",
   "language": "python",
   "name": "dev"
  },
  "language_info": {
   "codemirror_mode": {
    "name": "ipython",
    "version": 3
   },
   "file_extension": ".py",
   "mimetype": "text/x-python",
   "name": "python",
   "nbconvert_exporter": "python",
   "pygments_lexer": "ipython3",
   "version": "3.7.7"
  }
 },
 "nbformat": 4,
 "nbformat_minor": 4
}
