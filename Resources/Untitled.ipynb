{
 "cells": [
  {
   "cell_type": "code",
   "execution_count": null,
   "id": "134eb17e-311f-44a0-ba32-e6a6b21f24b9",
   "metadata": {},
   "outputs": [],
   "source": [
    "#Explaining loss\n",
    "\n",
    "\n",
    "import numpy as np\n",
    "y_train = 0\n",
    "model_prediction = 0.8\n",
    "(y_train * np.log(model_prediction) + (1-y_train) * (1 - np.log(model_prediction)))"
   ]
  },
  {
   "cell_type": "code",
   "execution_count": null,
   "id": "1b3f7b6c-7d64-4b0c-98ff-31e534d7da56",
   "metadata": {},
   "outputs": [],
   "source": [
    "# fine tuning with Grid Search\n",
    "def build_classifier(optimizer):\n",
    "    # first step: create a Sequential object, as a sequence of layers. B/C NN is a sequence of layers.\n",
    "    nn_model = Sequential()\n",
    "    # add the first hidden layer\n",
    "    nn_model.add(Dense(units=5,kernel_initializer='glorot_uniform',\n",
    "                    activation = 'relu'))\n",
    "    # add the second hidden layer\n",
    "    nn_model.add(Dense(units=5,kernel_initializer='glorot_uniform',\n",
    "                    activation = 'relu'))\n",
    "    # add the output layer\n",
    "    nn_model.add(Dense(units=1,kernel_initializer='glorot_uniform',\n",
    "                    activation = 'sigmoid'))\n",
    "    # compiling the NN\n",
    "    nn_model.compile(optimizer=optimizer,loss='binary_crossentropy',metrics=['accuracy'])\n",
    "    return nn_model"
   ]
  },
  {
   "cell_type": "code",
   "execution_count": null,
   "id": "60c1665a-eaf8-40ba-981d-179e6f71331f",
   "metadata": {},
   "outputs": [],
   "source": [
    "from keras.wrappers.scikit_learn import KerasClassifier\n",
    "\n",
    "new_classifier = KerasClassifier(build_fn=build_classifier)\n",
    "\n",
    "# create a dictionary of hyper-parameters to optimize\n",
    "parameters = {'batch_size':[25,32], 'nb_epoch':[1,2,10],'optimizer':['adam','rmsprop','sgd']}\n",
    "grid_search = GridSearchCV(estimator = new_classifier, param_grid = parameters, scoring = 'accuracy', cv=10)\n",
    "grid_search = grid_search.fit(scaled_train[int(0.5*len(scaled_train)):],y_train_select.values[int(0.5*len(scaled_train)):])\n",
    "# decreased train size for faster results. This is one way to get results faster if runing short on time\n",
    "best_parameters = grid_search.best_params_ \n",
    "best_accuracy = grid_search.best_score_"
   ]
  },
  {
   "cell_type": "code",
   "execution_count": null,
   "id": "17caa8eb-1024-4c80-86b1-31dc463fc2fb",
   "metadata": {},
   "outputs": [],
   "source": [
    "from sklearn.metrics import classification_report, confusion_matrix\n",
    "grid_predictions = grid_search.predict(scaled_test)\n",
    "grid_predictions = (grid_predictions>0.5)\n",
    "print(confusion_matrix(y_test_select,grid_predictions))\n",
    "print(\"\\n\")\n",
    "print(classification_report(y_test_select,grid_predictions))\n",
    "print(\"\\n\")\n",
    "print(accuracy_score(y_test_select,grid_predictions))"
   ]
  },
  {
   "cell_type": "code",
   "execution_count": null,
   "id": "aeac2ba0-4d42-4040-86c9-1a07aa40710d",
   "metadata": {},
   "outputs": [],
   "source": [
    "#learning curves of model accuracy\n",
    "from matplotlib import pyplot\n",
    "plt.figure(figsize=(20,10))\n",
    "\n",
    "pyplot.plot(fit_model.history['acc'], label='train')#.hist.hist if didnt worj\n",
    "pyplot.plot(classifier.history.history['val_acc'], label='Validation')\n",
    "plt.xlabel('Number of Epoch')\n",
    "plt.ylabel('Accuracy Train/Validation')\n",
    "pyplot.legend();"
   ]
  }
 ],
 "metadata": {
  "kernelspec": {
   "display_name": "Python 3",
   "language": "python",
   "name": "python3"
  },
  "language_info": {
   "codemirror_mode": {
    "name": "ipython",
    "version": 3
   },
   "file_extension": ".py",
   "mimetype": "text/x-python",
   "name": "python",
   "nbconvert_exporter": "python",
   "pygments_lexer": "ipython3",
   "version": "3.7.7"
  }
 },
 "nbformat": 4,
 "nbformat_minor": 5
}
